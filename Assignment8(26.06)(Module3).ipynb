{
 "cells": [
  {
   "cell_type": "markdown",
   "metadata": {},
   "source": [
    "**1. Program to calculate the length of a string.**"
   ]
  },
  {
   "cell_type": "code",
   "execution_count": 1,
   "metadata": {},
   "outputs": [
    {
     "name": "stdout",
     "output_type": "stream",
     "text": [
      "Enter a string: Vector\n",
      "The length of Vector is 6\n"
     ]
    }
   ],
   "source": [
    "string=input(\"Enter a string: \")\n",
    "length=len(string)\n",
    "print(\"The length of\",string,\"is\",length)"
   ]
  },
  {
   "cell_type": "markdown",
   "metadata": {},
   "source": [
    "**2. Program to find the character frequency in a string.**"
   ]
  },
  {
   "cell_type": "code",
   "execution_count": 3,
   "metadata": {},
   "outputs": [
    {
     "name": "stdout",
     "output_type": "stream",
     "text": [
      "Enter a string: Malayalam\n",
      "Character frequency Malayalam is: {'M': 1, 'a': 4, 'l': 2, 'y': 1, 'm': 1}\n"
     ]
    }
   ],
   "source": [
    "string=input(\"Enter a string: \")\n",
    "frequency={}\n",
    "for i in string:\n",
    "    if i in frequency:\n",
    "        frequency[i]+=1\n",
    "    else:\n",
    "        frequency[i]=1\n",
    "print(\"Character frequency\",string,\"is:\",frequency)"
   ]
  },
  {
   "cell_type": "markdown",
   "metadata": {},
   "source": [
    "**3. Program to get a single string from two given strings, separated by a space and swap the first character of each string.**"
   ]
  },
  {
   "cell_type": "code",
   "execution_count": 4,
   "metadata": {},
   "outputs": [
    {
     "name": "stdout",
     "output_type": "stream",
     "text": [
      "Enter the first string: ball\n",
      "Enter the secnd string: cell\n",
      "call\n",
      "bell\n"
     ]
    }
   ],
   "source": [
    "str1= input(\"Enter the first string: \")\n",
    "str2= input(\"Enter the secnd string: \")\n",
    "str1_swap= str2[:1]+str1[1:]\n",
    "str2_swap= str1[:1]+str2[1:]\n",
    "#n=str1.pop(0)\n",
    "#m=str2.pop(0)\n",
    "#p=list(str1_swap)\n",
    "#q=list(str2_swap)\n",
    "#str1=m+p\n",
    "#str2=n+q\n",
    "print(str1_swap)\n",
    "print(str2_swap)"
   ]
  },
  {
   "cell_type": "markdown",
   "metadata": {},
   "source": [
    "**4. Take input from the user and displays that input back in upper and lower cases.**"
   ]
  },
  {
   "cell_type": "code",
   "execution_count": 6,
   "metadata": {},
   "outputs": [
    {
     "name": "stdout",
     "output_type": "stream",
     "text": [
      "Enter a string: Vector\n",
      "The string Vector in upper case is VECTOR and in lower case is vector\n"
     ]
    }
   ],
   "source": [
    "string= input(\"Enter a string: \")\n",
    "upper_case=string.upper()\n",
    "lower_case=string.lower()\n",
    "print(\"The string\",string,\"in upper case is\",upper_case,\"and in lower case is\",lower_case)"
   ]
  },
  {
   "cell_type": "markdown",
   "metadata": {},
   "source": [
    "**5. Program to remove a newline.**"
   ]
  },
  {
   "cell_type": "code",
   "execution_count": 7,
   "metadata": {},
   "outputs": [
    {
     "data": {
      "text/plain": [
       "'Python'"
      ]
     },
     "execution_count": 7,
     "metadata": {},
     "output_type": "execute_result"
    }
   ],
   "source": [
    "string= \"Python\\n\"\n",
    "string.rstrip('\\n')"
   ]
  },
  {
   "cell_type": "markdown",
   "metadata": {},
   "source": [
    "**6. Program to count occurrences of a substring in a string.**"
   ]
  },
  {
   "cell_type": "code",
   "execution_count": 8,
   "metadata": {},
   "outputs": [
    {
     "name": "stdout",
     "output_type": "stream",
     "text": [
      "Enter a string: malayalam\n",
      "Enter a substring present in the string: al\n"
     ]
    },
    {
     "data": {
      "text/plain": [
       "2"
      ]
     },
     "execution_count": 8,
     "metadata": {},
     "output_type": "execute_result"
    }
   ],
   "source": [
    "string= input(\"Enter a string: \")\n",
    "substr= input(\"Enter a substring present in the string: \")\n",
    "string.count(substr)"
   ]
  },
  {
   "cell_type": "code",
   "execution_count": 9,
   "metadata": {},
   "outputs": [
    {
     "name": "stdout",
     "output_type": "stream",
     "text": [
      "Enter a string: malayalam\n",
      "Enter a substring present in the string: al\n",
      "Number of times the substring ' al ' has repeated in malayalam is: 2\n"
     ]
    }
   ],
   "source": [
    "string= input(\"Enter a string: \")\n",
    "substr= input(\"Enter a substring present in the string: \")\n",
    "freq=len(string.split(substr))\n",
    "print(\"Number of times the substring '\",substr,\"' has repeated in\",string,\"is:\",freq-1)"
   ]
  },
  {
   "cell_type": "markdown",
   "metadata": {},
   "source": [
    "**7. Program to convert a string in a list.**"
   ]
  },
  {
   "cell_type": "code",
   "execution_count": 11,
   "metadata": {},
   "outputs": [
    {
     "name": "stdout",
     "output_type": "stream",
     "text": [
      "Enter a string: Vector\n",
      "Converted list is ['V', 'e', 'c', 't', 'o', 'r']\n"
     ]
    }
   ],
   "source": [
    "string=input(\"Enter a string: \")\n",
    "mylist=list(string)\n",
    "print(\"Converted list is\",mylist)"
   ]
  },
  {
   "cell_type": "markdown",
   "metadata": {},
   "source": [
    "**8. Program to delete a character.**"
   ]
  },
  {
   "cell_type": "code",
   "execution_count": 12,
   "metadata": {},
   "outputs": [
    {
     "name": "stdout",
     "output_type": "stream",
     "text": [
      "Enter a string: Vector\n",
      "Enter the character to delete: r\n",
      "The resultant string is Vecto\n",
      "The deleted char is r .\n"
     ]
    }
   ],
   "source": [
    "string=input(\"Enter a string: \")\n",
    "char=input(\"Enter the character to delete: \")\n",
    "print(\"The resultant string is\",string.replace(char,\"\"))\n",
    "print(\"The deleted char is\",char,\".\")"
   ]
  },
  {
   "cell_type": "markdown",
   "metadata": {},
   "source": [
    "**9. Program to print every character of a string entered by user in a new line using loop.**"
   ]
  },
  {
   "cell_type": "code",
   "execution_count": 13,
   "metadata": {},
   "outputs": [
    {
     "name": "stdout",
     "output_type": "stream",
     "text": [
      "Enter a string: Vector\n",
      "Characters in the string Vector are:\n",
      "V\n",
      "e\n",
      "c\n",
      "t\n",
      "o\n",
      "r\n"
     ]
    }
   ],
   "source": [
    "string=input(\"Enter a string: \")\n",
    "print(\"Characters in the string\",string,\"are:\")\n",
    "for i in string:\n",
    "    print(i)"
   ]
  },
  {
   "cell_type": "markdown",
   "metadata": {},
   "source": [
    "**10. Program to find the length of the string \"refrigerator\" without using len function.**"
   ]
  },
  {
   "cell_type": "code",
   "execution_count": 14,
   "metadata": {},
   "outputs": [
    {
     "name": "stdout",
     "output_type": "stream",
     "text": [
      "The length of the string refrigerator is: 12\n"
     ]
    }
   ],
   "source": [
    "string= \"refrigerator\"\n",
    "length=0\n",
    "for i in string:\n",
    "    length+=1\n",
    "print(\"The length of the string\",string,\"is:\",length)"
   ]
  }
 ],
 "metadata": {
  "kernelspec": {
   "display_name": "Python 3",
   "language": "python",
   "name": "python3"
  },
  "language_info": {
   "codemirror_mode": {
    "name": "ipython",
    "version": 3
   },
   "file_extension": ".py",
   "mimetype": "text/x-python",
   "name": "python",
   "nbconvert_exporter": "python",
   "pygments_lexer": "ipython3",
   "version": "3.7.6"
  }
 },
 "nbformat": 4,
 "nbformat_minor": 4
}
