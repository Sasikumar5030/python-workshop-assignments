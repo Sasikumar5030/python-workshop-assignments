{
 "cells": [
  {
   "cell_type": "markdown",
   "metadata": {},
   "source": [
    "**1. Function to find the maximum of three numbers**"
   ]
  },
  {
   "cell_type": "code",
   "execution_count": 1,
   "metadata": {},
   "outputs": [
    {
     "name": "stdout",
     "output_type": "stream",
     "text": [
      "89 is the maximum of the three numbers.\n"
     ]
    }
   ],
   "source": [
    "def max_of_three(a,b,c):\n",
    "    if a>b and a>c:\n",
    "        print(a,\"is the maximum of the three numbers.\")\n",
    "    elif b>c and b>a:\n",
    "        print(b,\"is the maximum of the three numbers.\")\n",
    "    else:\n",
    "        print(c,\"is the maximum of the three numbers.\")\n",
    "max_of_three(34,67,89)"
   ]
  },
  {
   "cell_type": "markdown",
   "metadata": {},
   "source": [
    "**2. Program to reverse a string.**"
   ]
  },
  {
   "cell_type": "code",
   "execution_count": 2,
   "metadata": {},
   "outputs": [
    {
     "name": "stdout",
     "output_type": "stream",
     "text": [
      "The string before reversing is:  Apprenticeship\n",
      "The string after reversing is:  pihsecitnerppA\n"
     ]
    }
   ],
   "source": [
    "def reverse_string(str):\n",
    "    print(\"The string before reversing is: \",str)\n",
    "    print(\"The string after reversing is: \",str[::-1])\n",
    "reverse_string(\"Apprenticeship\")"
   ]
  },
  {
   "cell_type": "markdown",
   "metadata": {},
   "source": [
    "**3. Check whether a number is prime or not.**"
   ]
  },
  {
   "cell_type": "code",
   "execution_count": 19,
   "metadata": {},
   "outputs": [
    {
     "name": "stdout",
     "output_type": "stream",
     "text": [
      "Enter a number: 34\n",
      "no\n"
     ]
    }
   ],
   "source": [
    "\n",
    "for i in range(2,num):\n",
    "    if num%i==0:\n",
    "        print(\"no\")\n",
    "        break\n",
    "else:\n",
    "    print(\"prime\")"
   ]
  },
  {
   "cell_type": "code",
   "execution_count": 26,
   "metadata": {},
   "outputs": [
    {
     "name": "stdout",
     "output_type": "stream",
     "text": [
      "It is a prime number.\n"
     ]
    }
   ],
   "source": [
    "def prime_check(num):\n",
    "    if num<0:\n",
    "        print(\"Negative numbers cannot be prime.\")\n",
    "    elif num==0 and num==1:\n",
    "        print(\"It is neither prime nor composite.\")\n",
    "    elif num==2:\n",
    "        print(\"2 is the only even prime number.\")\n",
    "    elif num>2:\n",
    "        for i in range(2,num):\n",
    "            if num%i==0:\n",
    "                print(\"It is not a prime number.\")\n",
    "                break\n",
    "        else:\n",
    "            print(\"It is a prime number.\")\n",
    "prime_check(23)\n",
    "        "
   ]
  },
  {
   "cell_type": "code",
   "execution_count": 22,
   "metadata": {},
   "outputs": [
    {
     "name": "stdout",
     "output_type": "stream",
     "text": [
      "It is not a prime number.\n"
     ]
    }
   ],
   "source": [
    "def prime_check(num):\n",
    "    if num<0:\n",
    "        print(\"Negative numbers cannot be prime.\")\n",
    "    elif num==0 and num==1:\n",
    "        if num==0:\n",
    "            print(\"0 is neither prime nor composite.\")\n",
    "        else:\n",
    "            print(\"1 is neither prime not composite.\")\n",
    "    elif num==2:\n",
    "        print(\"2 is the only even prime number.\")\n",
    "    elif num>2:\n",
    "        for i in range(2,num):\n",
    "            if num%i==0:\n",
    "                print(\"It is not a prime number.\")\n",
    "                break\n",
    "        else:\n",
    "            print(\"It is a prime number.\")\n",
    "prime_check(24)"
   ]
  },
  {
   "cell_type": "markdown",
   "metadata": {},
   "source": [
    "**5. Find the sum of squares of first n natural numbers.**"
   ]
  },
  {
   "cell_type": "code",
   "execution_count": 39,
   "metadata": {},
   "outputs": [
    {
     "name": "stdout",
     "output_type": "stream",
     "text": [
      "The sum of squares of the first 3 natural numbers is: 14\n"
     ]
    }
   ],
   "source": [
    "def sum_of_squares(num):\n",
    "    sq_sum = 0\n",
    "    for i in range(1, num+1):\n",
    "        sq_sum = sq_sum + i**2\n",
    "    print(\"The sum of squares of the first\",num,\"natural numbers is:\",sq_sum)\n",
    "    \n",
    "sum_of_squares(3)"
   ]
  },
  {
   "cell_type": "code",
   "execution_count": null,
   "metadata": {},
   "outputs": [],
   "source": []
  }
 ],
 "metadata": {
  "kernelspec": {
   "display_name": "Python 3",
   "language": "python",
   "name": "python3"
  },
  "language_info": {
   "codemirror_mode": {
    "name": "ipython",
    "version": 3
   },
   "file_extension": ".py",
   "mimetype": "text/x-python",
   "name": "python",
   "nbconvert_exporter": "python",
   "pygments_lexer": "ipython3",
   "version": "3.7.6"
  }
 },
 "nbformat": 4,
 "nbformat_minor": 4
}
