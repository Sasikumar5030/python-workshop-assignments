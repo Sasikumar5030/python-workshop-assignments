{
  "nbformat": 4,
  "nbformat_minor": 0,
  "metadata": {
    "colab": {
      "name": "Assignment12(01.07)(Module5).ipynb",
      "provenance": [],
      "authorship_tag": "ABX9TyNsQq3Iuumvw9XKz6ry49JX",
      "include_colab_link": true
    },
    "kernelspec": {
      "name": "python3",
      "display_name": "Python 3"
    }
  },
  "cells": [
    {
      "cell_type": "markdown",
      "metadata": {
        "id": "view-in-github",
        "colab_type": "text"
      },
      "source": [
        "<a href=\"https://colab.research.google.com/github/srinijadharani/python-workshop-assignments/blob/master/Assignment12(01_07)(Module5).ipynb\" target=\"_parent\"><img src=\"https://colab.research.google.com/assets/colab-badge.svg\" alt=\"Open In Colab\"/></a>"
      ]
    },
    {
      "cell_type": "markdown",
      "metadata": {
        "id": "7NPBqedy2ocl",
        "colab_type": "text"
      },
      "source": [
        "**Program to create a tuple.**"
      ]
    },
    {
      "cell_type": "code",
      "metadata": {
        "id": "hUlppxfJ2hMm",
        "colab_type": "code",
        "colab": {
          "base_uri": "https://localhost:8080/",
          "height": 34
        },
        "outputId": "3a83b300-1f59-4f1f-dcee-a6cef49d2b3b"
      },
      "source": [
        "t1 = (1,2,3,4,5)\n",
        "print(t1, type(t1))"
      ],
      "execution_count": 20,
      "outputs": [
        {
          "output_type": "stream",
          "text": [
            "(1, 2, 3, 4, 5) <class 'tuple'>\n"
          ],
          "name": "stdout"
        }
      ]
    },
    {
      "cell_type": "markdown",
      "metadata": {
        "id": "hwPhYVah2ypZ",
        "colab_type": "text"
      },
      "source": [
        "**Program to create a tuple with different data types.**"
      ]
    },
    {
      "cell_type": "code",
      "metadata": {
        "id": "Af6rCrwb2vve",
        "colab_type": "code",
        "colab": {
          "base_uri": "https://localhost:8080/",
          "height": 34
        },
        "outputId": "ad832e6b-0921-4749-ac73-46dae326602d"
      },
      "source": [
        "t1 = (1,2.5,\"Bonjour\",[\"Hello\",1,6])\n",
        "print(t1, type(t1))"
      ],
      "execution_count": 21,
      "outputs": [
        {
          "output_type": "stream",
          "text": [
            "(1, 2.5, 'Bonjour', ['Hello', 1, 6]) <class 'tuple'>\n"
          ],
          "name": "stdout"
        }
      ]
    },
    {
      "cell_type": "markdown",
      "metadata": {
        "id": "17STdZTa3FBU",
        "colab_type": "text"
      },
      "source": [
        "**Program to convert a tuple into a string.**"
      ]
    },
    {
      "cell_type": "code",
      "metadata": {
        "id": "CxBBZmPc3boG",
        "colab_type": "code",
        "colab": {
          "base_uri": "https://localhost:8080/",
          "height": 34
        },
        "outputId": "e75efdd2-33f5-4fdf-84bc-d4226c213bd5"
      },
      "source": [
        "t1 = (\"N\",\"i\",\"m\",\"b\",\"u\",\"s\")\n",
        "str = \"\".join(t1)\n",
        "print(\"Tuple converted string:\",str)"
      ],
      "execution_count": 22,
      "outputs": [
        {
          "output_type": "stream",
          "text": [
            "Tuple converted string: Nimbus\n"
          ],
          "name": "stdout"
        }
      ]
    },
    {
      "cell_type": "markdown",
      "metadata": {
        "id": "ObsdmTAa3vlK",
        "colab_type": "text"
      },
      "source": [
        "**Program to slice a tuple.**"
      ]
    },
    {
      "cell_type": "code",
      "metadata": {
        "id": "etFUm4gv3s5R",
        "colab_type": "code",
        "colab": {
          "base_uri": "https://localhost:8080/",
          "height": 34
        },
        "outputId": "f0a250f6-7e14-40ab-ac6b-5437d4257e59"
      },
      "source": [
        "t1 = (1,2,3,4,5,6,7,8,9,10)\n",
        "slice_tup = (t1[2:6])\n",
        "print(\"Sliced tuple:\",slice_tup)"
      ],
      "execution_count": 23,
      "outputs": [
        {
          "output_type": "stream",
          "text": [
            "Sliced tuple: (3, 4, 5, 6)\n"
          ],
          "name": "stdout"
        }
      ]
    },
    {
      "cell_type": "markdown",
      "metadata": {
        "id": "0yG8QsVp4EbP",
        "colab_type": "text"
      },
      "source": [
        "**Program to find the length of a tuple.**"
      ]
    },
    {
      "cell_type": "code",
      "metadata": {
        "id": "fFGufYwg3_mI",
        "colab_type": "code",
        "colab": {
          "base_uri": "https://localhost:8080/",
          "height": 34
        },
        "outputId": "cfffbccb-ee41-4d50-e932-ad74ff16f1f0"
      },
      "source": [
        "t1 = (1,2,3,4,5,6,7,8,9,10)\n",
        "count = 0\n",
        "for item in t1:\n",
        "  count+=1\n",
        "print(\"Length of the tuple:\",count)"
      ],
      "execution_count": 24,
      "outputs": [
        {
          "output_type": "stream",
          "text": [
            "Length of the tuple: 10\n"
          ],
          "name": "stdout"
        }
      ]
    },
    {
      "cell_type": "code",
      "metadata": {
        "id": "-ZM1w9d-4jpi",
        "colab_type": "code",
        "colab": {
          "base_uri": "https://localhost:8080/",
          "height": 34
        },
        "outputId": "504562f0-731c-45c7-8b74-fe5f58bf428f"
      },
      "source": [
        "t1 = (1,2,3,4,5,6,7,8,9,10)\n",
        "print(\"Length of the tuple:\",len(t1))"
      ],
      "execution_count": 25,
      "outputs": [
        {
          "output_type": "stream",
          "text": [
            "Length of the tuple: 10\n"
          ],
          "name": "stdout"
        }
      ]
    },
    {
      "cell_type": "markdown",
      "metadata": {
        "id": "wc862yOb5mUV",
        "colab_type": "text"
      },
      "source": [
        "**Program to convert a tuple into a dictionary.**"
      ]
    },
    {
      "cell_type": "code",
      "metadata": {
        "id": "3DKLGrnx5iTW",
        "colab_type": "code",
        "colab": {
          "base_uri": "https://localhost:8080/",
          "height": 34
        },
        "outputId": "81549f7d-af4a-40dd-96cf-c10ac65cfff8"
      },
      "source": [
        "t1 = ((\"one\",1),(\"two\",2),(\"three\",3),(\"four\",4),(\"five\",5))\n",
        "converted_dict = dict(t1)\n",
        "print(\"Converted Dictionary:\",converted_dict)"
      ],
      "execution_count": 26,
      "outputs": [
        {
          "output_type": "stream",
          "text": [
            "Converted Dictionary: {'one': 1, 'two': 2, 'three': 3, 'four': 4, 'five': 5}\n"
          ],
          "name": "stdout"
        }
      ]
    },
    {
      "cell_type": "markdown",
      "metadata": {
        "id": "lwdXbj7z5V5I",
        "colab_type": "text"
      },
      "source": [
        "**Program to reverse a tuple.**"
      ]
    },
    {
      "cell_type": "code",
      "metadata": {
        "id": "nmLLKRno5Q54",
        "colab_type": "code",
        "colab": {
          "base_uri": "https://localhost:8080/",
          "height": 34
        },
        "outputId": "c81b6fc9-3009-45f4-f227-fb2b9f0635e7"
      },
      "source": [
        "t1 = (1,2,3,4,5,6,7,8,9,10)\n",
        "print(\"Reversed Tuple:\",t1[::-1])"
      ],
      "execution_count": 27,
      "outputs": [
        {
          "output_type": "stream",
          "text": [
            "Reversed Tuple: (10, 9, 8, 7, 6, 5, 4, 3, 2, 1)\n"
          ],
          "name": "stdout"
        }
      ]
    },
    {
      "cell_type": "markdown",
      "metadata": {
        "id": "Dy_UHphT6TZb",
        "colab_type": "text"
      },
      "source": [
        "**Program to convert a list of tuples into a dictionary.**"
      ]
    },
    {
      "cell_type": "code",
      "metadata": {
        "id": "kqWR8go65rkD",
        "colab_type": "code",
        "colab": {
          "base_uri": "https://localhost:8080/",
          "height": 34
        },
        "outputId": "2d695db3-9831-4d8d-e456-78cf3e9a8d6a"
      },
      "source": [
        "mylist = [(\"one\",1),(\"two\",2),(\"three\",3),(\"four\",4)]\n",
        "dict_converted = dict(mylist)\n",
        "print(\"Dictionary converted list:\",dict_converted)"
      ],
      "execution_count": 28,
      "outputs": [
        {
          "output_type": "stream",
          "text": [
            "Dictionary converted list: {'one': 1, 'two': 2, 'three': 3, 'four': 4}\n"
          ],
          "name": "stdout"
        }
      ]
    },
    {
      "cell_type": "markdown",
      "metadata": {
        "id": "bpgkPGwu6s1H",
        "colab_type": "text"
      },
      "source": [
        "**Program to convert a list of tuples into a tuple.**"
      ]
    },
    {
      "cell_type": "code",
      "metadata": {
        "id": "8cSipi416prs",
        "colab_type": "code",
        "colab": {
          "base_uri": "https://localhost:8080/",
          "height": 34
        },
        "outputId": "ab05fdab-0eaa-4fc9-d80e-2c1f919995c7"
      },
      "source": [
        "mylist = [\"Hello\",\"Hey\",\"Hi\",\"Hola\",\"Bonjour\"]\n",
        "print(\"Tuple converted list:\",tuple(mylist))"
      ],
      "execution_count": 29,
      "outputs": [
        {
          "output_type": "stream",
          "text": [
            "Tuple converted list: ('Hello', 'Hey', 'Hi', 'Hola', 'Bonjour')\n"
          ],
          "name": "stdout"
        }
      ]
    }
  ]
}
