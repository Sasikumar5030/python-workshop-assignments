{
 "cells": [
  {
   "cell_type": "markdown",
   "metadata": {},
   "source": [
    "**1. Program to find the area of a circle using math functions.**"
   ]
  },
  {
   "cell_type": "code",
   "execution_count": 1,
   "metadata": {},
   "outputs": [
    {
     "name": "stdout",
     "output_type": "stream",
     "text": [
      "Enter the radius of the circle: 3\n",
      "The area of the circle with radius 3.0 is: 28.274\n"
     ]
    }
   ],
   "source": [
    "import math\n",
    "radius= float(input(\"Enter the radius of the circle: \"))\n",
    "area= math.pi*(math.pow(radius,2))\n",
    "result= round(area,3)\n",
    "print(\"The area of the circle with radius\",radius,\"is:\",result)"
   ]
  },
  {
   "cell_type": "markdown",
   "metadata": {},
   "source": [
    "**2. Program to find the area of a regular polygon using math functions.**\n",
    "\n",
    "Formula: area= (s^2 n)/(4 tan(pi/n)),\n",
    "\n",
    "\n",
    "where s is the length of any side and n is the number of sides"
   ]
  },
  {
   "cell_type": "code",
   "execution_count": 2,
   "metadata": {},
   "outputs": [
    {
     "name": "stdout",
     "output_type": "stream",
     "text": [
      "Enter the length of any side: 5\n",
      "Enter the number of sides in the regular polygon: 5\n",
      "The area of the regular polygon is: 43.01193501472418\n"
     ]
    }
   ],
   "source": [
    "s= float(input(\"Enter the length of any side: \"))\n",
    "n= int(input(\"Enter the number of sides in the regular polygon: \"))\n",
    "numerator= math.pow(s,2)*n\n",
    "denominator= 4*(math.tan(math.pi/n))\n",
    "area= numerator/denominator\n",
    "print(\"The area of the regular polygon is:\",area)"
   ]
  },
  {
   "cell_type": "markdown",
   "metadata": {},
   "source": [
    "**3. Program to find the area of a segment of a circle using math functions.**\n",
    "\n",
    "Formula: area= (r^2/2) (pi c/180 - sinc)"
   ]
  },
  {
   "cell_type": "code",
   "execution_count": 6,
   "metadata": {},
   "outputs": [
    {
     "name": "stdout",
     "output_type": "stream",
     "text": [
      "Enter the radius of the circle: 2\n",
      "Enter the value of central angle in degrees: 30\n",
      "Area of the segment of a circle of radius 2.0 and central angle 30 is: 3.0232607993823213\n"
     ]
    }
   ],
   "source": [
    "import math\n",
    "r= float(input(\"Enter the radius of the circle: \"))\n",
    "c= int(input(\"Enter the value of central angle in degrees: \"))\n",
    "part_one= (math.pow(r,2))/2\n",
    "part_two= ((((math.pi)/180)*c)-math.sin(c))\n",
    "area= part_one*part_two\n",
    "print(\"Area of the segment of a circle of radius\",r, \"and central angle\",c,\"is:\",area)"
   ]
  },
  {
   "cell_type": "markdown",
   "metadata": {},
   "source": [
    "**4. Program to shuffle a list.**"
   ]
  },
  {
   "cell_type": "code",
   "execution_count": 8,
   "metadata": {},
   "outputs": [
    {
     "name": "stdout",
     "output_type": "stream",
     "text": [
      "List before shuffling: [100, 1, 2, 3, 30, 40, 'hey', 'hello']\n",
      "List after shuffling: [100, 'hello', 40, 3, 1, 'hey', 2, 30]\n"
     ]
    }
   ],
   "source": [
    "from random import shuffle\n",
    "mylist=[100,1,2,3,30,40,\"hey\",\"hello\"]\n",
    "print(\"List before shuffling:\",mylist)\n",
    "shuffle(mylist)\n",
    "print(\"List after shuffling:\",mylist)"
   ]
  },
  {
   "cell_type": "markdown",
   "metadata": {},
   "source": [
    "**5. Program to generate random numbers between 1 and 10,000 and difference between each random number is 50.**"
   ]
  },
  {
   "cell_type": "code",
   "execution_count": 17,
   "metadata": {},
   "outputs": [
    {
     "name": "stdout",
     "output_type": "stream",
     "text": [
      "Random number between 1 and 10000 which has a step of 50: 1451\n"
     ]
    }
   ],
   "source": [
    "import random\n",
    "print(\"Random number between 1 and 10000 which has a step of 50:\",random.randrange(1,10000,50))"
   ]
  },
  {
   "cell_type": "code",
   "execution_count": 18,
   "metadata": {},
   "outputs": [
    {
     "name": "stdout",
     "output_type": "stream",
     "text": [
      "Random number between 1 and 10000 which has a step of 50: 5801\n"
     ]
    }
   ],
   "source": [
    "import random\n",
    "print(\"Random number between 1 and 10000 which has a step of 50:\",random.randrange(1,10000,50))"
   ]
  },
  {
   "cell_type": "code",
   "execution_count": 19,
   "metadata": {},
   "outputs": [
    {
     "name": "stdout",
     "output_type": "stream",
     "text": [
      "Random number between 1 and 10000 which has a step of 50: 4951\n"
     ]
    }
   ],
   "source": [
    "import random\n",
    "print(\"Random number between 1 and 10000 which has a step of 50:\",random.randrange(1,10000,50))"
   ]
  },
  {
   "cell_type": "markdown",
   "metadata": {},
   "source": [
    "**6. Program to find the following using math functions:**\n",
    "\n",
    "1. sin 60\n",
    "2. cos(pi)\n",
    "3. tan 90\n",
    "4. angle of sin(0.8660254037844386)\n",
    "5. 5^8\n",
    "6. square root of 400\n",
    "7. value of 5^e\n",
    "8. value of log(1024), base 2\n",
    "9. value of log(1024), base 10\n",
    "10. floor and ceiling values of 23.56"
   ]
  },
  {
   "cell_type": "code",
   "execution_count": 24,
   "metadata": {},
   "outputs": [
    {
     "name": "stdout",
     "output_type": "stream",
     "text": [
      "Sine of 60= -0.3048106211022167\n",
      "Cos of pi= -1.0\n",
      "Tan of 90= -1.995200412208242\n",
      "Angle of sin 0.8660254037844386= 0.7617599814162892\n",
      "5^8= 390625.0\n",
      "Square root of 400= 20.0\n",
      "The value of 5^e= 79.43235916621322\n",
      "Log(1024), base 2= 10.0\n",
      "Log(1024), base 10= 3.0102999566398116\n",
      "Floor of 23.56= 23\n",
      "Ceiling of 23.56= 24\n"
     ]
    }
   ],
   "source": [
    "import math\n",
    "print(\"Sine of 60=\",math.sin(60))\n",
    "print(\"Cos of pi=\",math.cos(math.pi))\n",
    "print(\"Tan of 90=\",math.tan(90))\n",
    "print(\"Angle of sin 0.8660254037844386=\",math.sin(0.8660254037844386))\n",
    "print(\"5^8=\",math.pow(5,8))\n",
    "print(\"Square root of 400=\",math.sqrt(400))\n",
    "print(\"The value of 5^e=\",math.pow(5,math.e))\n",
    "print(\"Log(1024), base 2=\",math.log(1024,2))\n",
    "print(\"Log(1024), base 10=\",math.log(1024,10))\n",
    "print(\"Floor of 23.56=\",math.floor(23.56))\n",
    "print(\"Ceiling of 23.56=\",math.ceil(23.56))"
   ]
  }
 ],
 "metadata": {
  "kernelspec": {
   "display_name": "Python 3",
   "language": "python",
   "name": "python3"
  },
  "language_info": {
   "codemirror_mode": {
    "name": "ipython",
    "version": 3
   },
   "file_extension": ".py",
   "mimetype": "text/x-python",
   "name": "python",
   "nbconvert_exporter": "python",
   "pygments_lexer": "ipython3",
   "version": "3.7.6"
  }
 },
 "nbformat": 4,
 "nbformat_minor": 4
}
