{
 "cells": [
  {
   "cell_type": "markdown",
   "metadata": {},
   "source": [
    "**Program to get the largest and smallest number from a list.**"
   ]
  },
  {
   "cell_type": "code",
   "execution_count": 1,
   "metadata": {},
   "outputs": [
    {
     "name": "stdout",
     "output_type": "stream",
     "text": [
      "The given list is: [6, 34, 9, 14, 87, 44]\n",
      "Largest number in the list is 87\n",
      "Smallest number in the list: 6\n"
     ]
    }
   ],
   "source": [
    "mylist = [6,34,9,14,87,44]\n",
    "print(\"The given list is:\",mylist)\n",
    "print(\"Largest number in the list is\",max(mylist))\n",
    "print(\"Smallest number in the list:\",min(mylist))"
   ]
  },
  {
   "cell_type": "markdown",
   "metadata": {},
   "source": [
    "**Program to remove duplicate elements from a list.**"
   ]
  },
  {
   "cell_type": "code",
   "execution_count": 2,
   "metadata": {},
   "outputs": [
    {
     "name": "stdout",
     "output_type": "stream",
     "text": [
      "New list: [1, 4, 6, 3, 8, 7, 0]\n"
     ]
    }
   ],
   "source": [
    "mylist = [1,4,4,6,3,3,3,8,7,7,0,1]\n",
    "newlist = []\n",
    "\n",
    "for item in mylist:\n",
    "    if item not in newlist:\n",
    "        newlist.append(item)\n",
    "print(\"New list:\",newlist)"
   ]
  },
  {
   "cell_type": "markdown",
   "metadata": {},
   "source": [
    "**Program to check if the list is empty or not.**"
   ]
  },
  {
   "cell_type": "code",
   "execution_count": 3,
   "metadata": {},
   "outputs": [
    {
     "name": "stdout",
     "output_type": "stream",
     "text": [
      "False\n",
      "True\n"
     ]
    }
   ],
   "source": [
    "mylist = [6,34,9,14,87,44]\n",
    "list1 = []\n",
    "if mylist == []:\n",
    "    print(\"True\")\n",
    "else:\n",
    "    print(\"False\")\n",
    "    \n",
    "if list1 != []:\n",
    "    print(\"False\")\n",
    "else:\n",
    "    print(\"True\")"
   ]
  },
  {
   "cell_type": "markdown",
   "metadata": {},
   "source": [
    "**Program to clone or copy a list.**"
   ]
  },
  {
   "cell_type": "code",
   "execution_count": 4,
   "metadata": {},
   "outputs": [
    {
     "name": "stdout",
     "output_type": "stream",
     "text": [
      "Original list: [6, 34, 9, 14, 87, 44]\n",
      "Copied list: [6, 34, 9, 14, 87, 44]\n"
     ]
    }
   ],
   "source": [
    "mylist = [6,34,9,14,87,44]\n",
    "print(\"Original list:\",mylist)\n",
    "newlist = mylist.copy()\n",
    "print(\"Copied list:\",newlist)"
   ]
  },
  {
   "cell_type": "markdown",
   "metadata": {},
   "source": [
    "**Program to print a specified list after removing the 0th, 4th and 5th elements.**"
   ]
  },
  {
   "cell_type": "code",
   "execution_count": 5,
   "metadata": {},
   "outputs": [
    {
     "name": "stdout",
     "output_type": "stream",
     "text": [
      "New list: ['Green', 'White', 'Black']\n"
     ]
    }
   ],
   "source": [
    "mylist = [\"Red\",\"Green\",\"White\",\"Black\",\"Pink\",\"Yellow\"]\n",
    "mylist.pop(0)\n",
    "mylist.remove(\"Pink\")\n",
    "mylist.remove(\"Yellow\")\n",
    "print(\"New list:\",mylist)"
   ]
  },
  {
   "cell_type": "markdown",
   "metadata": {},
   "source": [
    "**Program to print the numbers of a specified list after removing even numbers from it.**"
   ]
  },
  {
   "cell_type": "code",
   "execution_count": 6,
   "metadata": {},
   "outputs": [
    {
     "name": "stdout",
     "output_type": "stream",
     "text": [
      "[1, 3, 5, 7, 9]\n"
     ]
    }
   ],
   "source": [
    "mylist = [1,2,3,4,5,6,7,8,9,10]\n",
    "for item in mylist:\n",
    "    if item%2==0:\n",
    "        mylist.remove(item)\n",
    "print(mylist)"
   ]
  },
  {
   "cell_type": "markdown",
   "metadata": {},
   "source": [
    "**Program to shuffle and print a list.**"
   ]
  },
  {
   "cell_type": "code",
   "execution_count": 7,
   "metadata": {},
   "outputs": [
    {
     "name": "stdout",
     "output_type": "stream",
     "text": [
      "New list: [3, 2, 10, 5, 1, 6, 7, 9, 8, 4]\n"
     ]
    }
   ],
   "source": [
    "from random import shuffle\n",
    "\n",
    "mylist = [1,2,3,4,5,6,7,8,9,10]\n",
    "shuffle(mylist)\n",
    "print(\"New list:\",mylist)"
   ]
  },
  {
   "cell_type": "markdown",
   "metadata": {},
   "source": [
    "**Program to find the difference between two lists.**"
   ]
  },
  {
   "cell_type": "code",
   "execution_count": 8,
   "metadata": {},
   "outputs": [
    {
     "name": "stdout",
     "output_type": "stream",
     "text": [
      "[1, 3, 5] is the difference between given two lists.\n"
     ]
    }
   ],
   "source": [
    "list1 = [1,2,3,4,5,6]\n",
    "list2 = [4,2,6]\n",
    "list3 = []\n",
    "for item in list1:\n",
    "    if item not in list2:\n",
    "        list3.append(item)\n",
    "print(list3,\"is the difference between given two lists.\")"
   ]
  }
 ],
 "metadata": {
  "kernelspec": {
   "display_name": "Python 3",
   "language": "python",
   "name": "python3"
  },
  "language_info": {
   "codemirror_mode": {
    "name": "ipython",
    "version": 3
   },
   "file_extension": ".py",
   "mimetype": "text/x-python",
   "name": "python",
   "nbconvert_exporter": "python",
   "pygments_lexer": "ipython3",
   "version": "3.7.6"
  }
 },
 "nbformat": 4,
 "nbformat_minor": 4
}
