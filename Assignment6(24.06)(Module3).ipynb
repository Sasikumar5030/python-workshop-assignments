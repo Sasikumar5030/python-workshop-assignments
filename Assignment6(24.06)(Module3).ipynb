{
 "cells": [
  {
   "cell_type": "code",
   "execution_count": 1,
   "metadata": {},
   "outputs": [
    {
     "name": "stdout",
     "output_type": "stream",
     "text": [
      "Enter the binary value of a number: 100\n",
      "The value of the binary number 100 in decimal form is 4\n"
     ]
    }
   ],
   "source": [
    "num=int(input(\"Enter the binary value of a number: \"))\n",
    "decimal=0\n",
    "base_value=1\n",
    "temp=num\n",
    "\n",
    "while temp!=0:\n",
    "    last_digit=temp%10\n",
    "    temp=int(temp/10)\n",
    "    decimal+=last_digit*base_value\n",
    "    base_value=base_value*2\n",
    "print(\"The value of the binary number\",num,\"in decimal form is\",decimal)"
   ]
  },
  {
   "cell_type": "markdown",
   "metadata": {},
   "source": [
    "**2. Generate first n Fibonacci series.**"
   ]
  },
  {
   "cell_type": "code",
   "execution_count": 2,
   "metadata": {},
   "outputs": [
    {
     "name": "stdout",
     "output_type": "stream",
     "text": [
      "Enter the value of n: 5\n",
      "Fibonacci Sequence upto 5 terms is: \n",
      "0\n",
      "1\n",
      "1\n",
      "2\n",
      "3\n"
     ]
    }
   ],
   "source": [
    "n= int(input(\"Enter the value of n: \"))\n",
    "n1, n2 = 0,1 \n",
    "count=0\n",
    "print(\"Fibonacci Sequence upto\",n,\"terms is: \")\n",
    "while count<n:\n",
    "    print(n1)\n",
    "    nth=n1+n2\n",
    "    n1=n2\n",
    "    n2=nth\n",
    "    count+=1"
   ]
  },
  {
   "cell_type": "markdown",
   "metadata": {},
   "source": [
    "**3. Display multiplication table of k. Take k value from user.**"
   ]
  },
  {
   "cell_type": "code",
   "execution_count": 3,
   "metadata": {},
   "outputs": [
    {
     "name": "stdout",
     "output_type": "stream",
     "text": [
      "Enter a number to print the multiplication table: 7\n",
      "Multiplication table:\n",
      "7 * 1 = 7\n",
      "7 * 2 = 14\n",
      "7 * 3 = 21\n",
      "7 * 4 = 28\n",
      "7 * 5 = 35\n",
      "7 * 6 = 42\n",
      "7 * 7 = 49\n",
      "7 * 8 = 56\n",
      "7 * 9 = 63\n",
      "7 * 10 = 70\n"
     ]
    }
   ],
   "source": [
    "k=int(input(\"Enter a number to print the multiplication table: \"))\n",
    "print(\"Multiplication table:\")\n",
    "for i in range(1,11):\n",
    "    print(k,\"*\",i,\"=\",k*i)"
   ]
  },
  {
   "cell_type": "markdown",
   "metadata": {},
   "source": [
    "**4. Take 10 integers from keyboard using loop and print their average value on the screen Print the   following patterns using loop:**\n",
    "     * \n",
    "     ** \n",
    "     *** \n",
    "     **** \n"
   ]
  },
  {
   "cell_type": "code",
   "execution_count": 7,
   "metadata": {},
   "outputs": [
    {
     "name": "stdout",
     "output_type": "stream",
     "text": [
      "Enter a value: 3\n",
      "Enter a value: 1\n",
      "Enter a value: 2\n",
      "Enter a value: 4\n",
      "Enter a value: 8\n",
      "Enter a value: 5\n",
      "Enter a value: 3\n",
      "Enter a value: 9\n",
      "Enter a value: 10\n",
      "Enter a value: 0\n"
     ]
    }
   ],
   "source": [
    "for num in range(1,11):\n",
    "    num= int(input(\"Enter a value: \"))"
   ]
  },
  {
   "cell_type": "markdown",
   "metadata": {},
   "source": [
    "**Pattern print:**"
   ]
  },
  {
   "cell_type": "code",
   "execution_count": 10,
   "metadata": {},
   "outputs": [
    {
     "name": "stdout",
     "output_type": "stream",
     "text": [
      "*\n",
      "**\n",
      "***\n",
      "****\n"
     ]
    }
   ],
   "source": [
    "rows = 4\n",
    "for row in range(1, rows+1):\n",
    "    for column in range(1, row + 1):\n",
    "        print(\"*\", end=\"\")\n",
    "    print(\"\")"
   ]
  },
  {
   "cell_type": "markdown",
   "metadata": {},
   "source": [
    "**5. Program to find the GCD of two numbers.**"
   ]
  },
  {
   "cell_type": "code",
   "execution_count": 1,
   "metadata": {},
   "outputs": [
    {
     "name": "stdout",
     "output_type": "stream",
     "text": [
      "Enter number 1: 21\n",
      "Enter number 2: 45\n",
      "3 is the GCD of 21 and 45\n"
     ]
    }
   ],
   "source": [
    "import math\n",
    "n1= int(input(\"Enter number 1: \"))\n",
    "n2= int(input(\"Enter number 2: \"))\n",
    "print(math.gcd(n1,n2),\"is the GCD of\",n1,\"and\",n2)"
   ]
  },
  {
   "cell_type": "markdown",
   "metadata": {},
   "source": [
    "**6. Program that accepts a word from the user and reverses it.**"
   ]
  },
  {
   "cell_type": "code",
   "execution_count": 2,
   "metadata": {},
   "outputs": [
    {
     "name": "stdout",
     "output_type": "stream",
     "text": [
      "Enter a word: Icecream\n",
      "Reverse of Icecream is maercecI\n"
     ]
    }
   ],
   "source": [
    "word=input(\"Enter a word: \")\n",
    "reverse= word[::-1]\n",
    "print(\"Reverse of\",word,\"is\",reverse)"
   ]
  },
  {
   "cell_type": "markdown",
   "metadata": {},
   "source": [
    "**7. Program to count the number of even and odd numbers from a series of numbers.**"
   ]
  },
  {
   "cell_type": "code",
   "execution_count": 5,
   "metadata": {},
   "outputs": [
    {
     "name": "stdout",
     "output_type": "stream",
     "text": [
      "Enter the starting number of the sequence: 0\n",
      "Enter the ending number of the sequence: 20\n",
      "The number of even numbers: 11\n",
      "The number of odd numbers 10\n"
     ]
    }
   ],
   "source": [
    "start=int(input(\"Enter the starting number of the sequence: \"))\n",
    "end=int(input(\"Enter the ending number of the sequence: \"))\n",
    "count_even=0\n",
    "count_odd=0\n",
    "for num in range(start,end+1):\n",
    "    if num%2==0:\n",
    "        count_even+=1\n",
    "    else:\n",
    "        count_odd+=1\n",
    "print(\"The number of even numbers:\",count_even)\n",
    "print(\"The number of odd numbers\",count_odd)"
   ]
  },
  {
   "cell_type": "markdown",
   "metadata": {},
   "source": [
    "**8. Program that prints all numbers from 0 to 6 except 3 and 6.**"
   ]
  },
  {
   "cell_type": "code",
   "execution_count": 15,
   "metadata": {},
   "outputs": [
    {
     "name": "stdout",
     "output_type": "stream",
     "text": [
      "0\n",
      "1\n",
      "2\n",
      "4\n",
      "5\n"
     ]
    }
   ],
   "source": [
    "for num in range(0,6):\n",
    "    if num==3:\n",
    "        continue\n",
    "    print(num)"
   ]
  }
 ],
 "metadata": {
  "kernelspec": {
   "display_name": "Python 3",
   "language": "python",
   "name": "python3"
  },
  "language_info": {
   "codemirror_mode": {
    "name": "ipython",
    "version": 3
   },
   "file_extension": ".py",
   "mimetype": "text/x-python",
   "name": "python",
   "nbconvert_exporter": "python",
   "pygments_lexer": "ipython3",
   "version": "3.7.6"
  }
 },
 "nbformat": 4,
 "nbformat_minor": 4
}
