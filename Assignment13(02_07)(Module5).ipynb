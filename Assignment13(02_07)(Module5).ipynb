{
  "nbformat": 4,
  "nbformat_minor": 0,
  "metadata": {
    "colab": {
      "name": "Assignment13(02.07)(Module5).ipynb",
      "provenance": [],
      "authorship_tag": "ABX9TyOgKb0kkuNhr4ZEf2yW7K54",
      "include_colab_link": true
    },
    "kernelspec": {
      "name": "python3",
      "display_name": "Python 3"
    }
  },
  "cells": [
    {
      "cell_type": "markdown",
      "metadata": {
        "id": "view-in-github",
        "colab_type": "text"
      },
      "source": [
        "<a href=\"https://colab.research.google.com/github/srinijadharani/python-workshop-assignments/blob/master/Assignment13(02_07)(Module5).ipynb\" target=\"_parent\"><img src=\"https://colab.research.google.com/assets/colab-badge.svg\" alt=\"Open In Colab\"/></a>"
      ]
    },
    {
      "cell_type": "markdown",
      "metadata": {
        "id": "Zzd0U_uWAygX",
        "colab_type": "text"
      },
      "source": [
        "**What is a dictionary in Python? Explain with an example.**<br>\n",
        "It is an unordered sequence data structure. Dictionaries are denoted by curly braces { }. It is a collection of various *key:value* pairs. Keys are immutable and unique. Values are mutable and their values can be duplicated. <br>\n",
        "For example:"
      ]
    },
    {
      "cell_type": "code",
      "metadata": {
        "id": "7UzzpjrzAitL",
        "colab_type": "code",
        "colab": {
          "base_uri": "https://localhost:8080/",
          "height": 34
        },
        "outputId": "2315d1af-f7be-4d4d-cd6b-fb781be89f3d"
      },
      "source": [
        "dict1 = {\"one\":1,\"two\":2,\"three\":3}\n",
        "print(\"Dictionary:\",dict1)"
      ],
      "execution_count": 1,
      "outputs": [
        {
          "output_type": "stream",
          "text": [
            "Dictionary: {'one': 1, 'two': 2, 'three': 3}\n"
          ],
          "name": "stdout"
        }
      ]
    },
    {
      "cell_type": "markdown",
      "metadata": {
        "id": "3Cv3bxCBC5ai",
        "colab_type": "text"
      },
      "source": [
        "**Program to sum all the items in a list.**"
      ]
    },
    {
      "cell_type": "code",
      "metadata": {
        "id": "AzPKuFpSC2w2",
        "colab_type": "code",
        "colab": {
          "base_uri": "https://localhost:8080/",
          "height": 34
        },
        "outputId": "05de6c27-1b22-4e1a-f10a-2677e3cb062f"
      },
      "source": [
        "def sum_list(mylist):\n",
        "  sum = 0\n",
        "  for item in mylist:\n",
        "    sum = sum + item\n",
        "  print(\"Sum of all the items in the given list is:\",sum)\n",
        "sum_list([1,5,2,8,0,3,9,4,5,1,5,6,2,7])"
      ],
      "execution_count": 2,
      "outputs": [
        {
          "output_type": "stream",
          "text": [
            "Sum of all the items in the given list is: 58\n"
          ],
          "name": "stdout"
        }
      ]
    },
    {
      "cell_type": "markdown",
      "metadata": {
        "id": "rOqmCmlfDd-6",
        "colab_type": "text"
      },
      "source": [
        "**Program to create a list of empty dictionaries.**"
      ]
    },
    {
      "cell_type": "code",
      "metadata": {
        "id": "A-LuOJVwDcwQ",
        "colab_type": "code",
        "colab": {
          "base_uri": "https://localhost:8080/",
          "height": 52
        },
        "outputId": "6b66fbd6-473e-458d-8b70-26f32712be07"
      },
      "source": [
        "n = int(input(\"Enter number of empty dictionaries: \"))\n",
        "mydict = {}\n",
        "mylist = [mydict] * n\n",
        "print(\"List of\",n,\"empty dictionaries:\",mylist)"
      ],
      "execution_count": 3,
      "outputs": [
        {
          "output_type": "stream",
          "text": [
            "Enter number of empty dictionaries: 4\n",
            "List of 4 empty dictionaries: [{}, {}, {}, {}]\n"
          ],
          "name": "stdout"
        }
      ]
    },
    {
      "cell_type": "markdown",
      "metadata": {
        "id": "9mgH_U-yEk-9",
        "colab_type": "text"
      },
      "source": [
        "**Program to access dictionary keys element by index.**"
      ]
    },
    {
      "cell_type": "code",
      "metadata": {
        "id": "lFHRlLcAEgx-",
        "colab_type": "code",
        "colab": {
          "base_uri": "https://localhost:8080/",
          "height": 140
        },
        "outputId": "a784ed2d-9cca-4fec-9259-ad8174fd78e8"
      },
      "source": [
        "dict1 = {\"blue\":1, \"green\":2, \"yellow\":3, \"red\":4, \"black\":5, \"purple\":6}\n",
        "print(\"Given dictionary:\",dict1)\n",
        "mylist = list(dict1)\n",
        "index = 0\n",
        "for item in mylist:\n",
        "  print(\"Index \",index,\"has:\",mylist[index])\n",
        "  index = index + 1"
      ],
      "execution_count": 4,
      "outputs": [
        {
          "output_type": "stream",
          "text": [
            "Given dictionary: {'blue': 1, 'green': 2, 'yellow': 3, 'red': 4, 'black': 5, 'purple': 6}\n",
            "Index  0 has: blue\n",
            "Index  1 has: green\n",
            "Index  2 has: yellow\n",
            "Index  3 has: red\n",
            "Index  4 has: black\n",
            "Index  5 has: purple\n"
          ],
          "name": "stdout"
        }
      ]
    },
    {
      "cell_type": "markdown",
      "metadata": {
        "id": "Coprk1PqGI_i",
        "colab_type": "text"
      },
      "source": [
        "**Program to iterate over dictionaries using for loops.**"
      ]
    },
    {
      "cell_type": "code",
      "metadata": {
        "id": "D9ygRTueGFTw",
        "colab_type": "code",
        "colab": {
          "base_uri": "https://localhost:8080/",
          "height": 403
        },
        "outputId": "86764c10-77e7-4be3-dc24-60b2b7a9fcf8"
      },
      "source": [
        "dict1 = {\"blue\":1, \"green\":2, \"yellow\":3, \"red\":4, \"black\":5, \"purple\":6}\n",
        "print(\"Given dictionary:\",dict1)\n",
        "print(\"Keys present in the given dictionary:\")\n",
        "for item in dict1:\n",
        "  print(item)\n",
        "\n",
        "print(\"Values present in the given dictionary:\")\n",
        "for item in dict1.values():\n",
        "  print(item)\n",
        "\n",
        "print(\"Key:Value pairs in the given dictionary:\")\n",
        "for (k,v) in dict1.items():\n",
        "  print(k,\":\",v)"
      ],
      "execution_count": 5,
      "outputs": [
        {
          "output_type": "stream",
          "text": [
            "Given dictionary: {'blue': 1, 'green': 2, 'yellow': 3, 'red': 4, 'black': 5, 'purple': 6}\n",
            "Keys present in the given dictionary:\n",
            "blue\n",
            "green\n",
            "yellow\n",
            "red\n",
            "black\n",
            "purple\n",
            "Values present in the given dictionary:\n",
            "1\n",
            "2\n",
            "3\n",
            "4\n",
            "5\n",
            "6\n",
            "Key:Value pairs in the given dictionary:\n",
            "blue : 1\n",
            "green : 2\n",
            "yellow : 3\n",
            "red : 4\n",
            "black : 5\n",
            "purple : 6\n"
          ],
          "name": "stdout"
        }
      ]
    },
    {
      "cell_type": "markdown",
      "metadata": {
        "id": "Y5WG1qlXHUeF",
        "colab_type": "text"
      },
      "source": [
        "**Program to sum all the items in a given dictionary.**"
      ]
    },
    {
      "cell_type": "code",
      "metadata": {
        "id": "dwO4YflxGnI9",
        "colab_type": "code",
        "colab": {
          "base_uri": "https://localhost:8080/",
          "height": 70
        },
        "outputId": "71eae067-a214-4293-8de3-431e19574bb6"
      },
      "source": [
        "dict1 = {1:100, 2:200, 3:300, 4:400, 5:500}\n",
        "print(\"Given dictionary:\",dict1)\n",
        "sum=0\n",
        "for value in dict1.values():\n",
        "  sum = sum + value\n",
        "print(\"Sum of all the values in the given dictionary:\",sum)\n",
        "\n",
        "for key in dict1.keys():\n",
        "  sum = sum + key\n",
        "print(\"Sum of all keys in the given dictionary:\",sum)"
      ],
      "execution_count": 6,
      "outputs": [
        {
          "output_type": "stream",
          "text": [
            "Given dictionary: {1: 100, 2: 200, 3: 300, 4: 400, 5: 500}\n",
            "Sum of all the values in the given dictionary: 1500\n",
            "Sum of all keys in the given dictionary: 1515\n"
          ],
          "name": "stdout"
        }
      ]
    },
    {
      "cell_type": "markdown",
      "metadata": {
        "id": "iG-uwAhkIhuJ",
        "colab_type": "text"
      },
      "source": [
        "**Program to cocncatenate the following dictionaries and create a new one.**\n",
        "\n",
        "    dict1 = {1:10, 2:20}\n",
        "    dict2 = {3:30, 4:40}\n",
        "    dict3 = {5:50, 6:60}\n",
        "Expected Result: {1:10, 2:20, 3:30, 4:40, 5:50, 6:60}"
      ]
    },
    {
      "cell_type": "code",
      "metadata": {
        "id": "2xkRx8-CH7vA",
        "colab_type": "code",
        "colab": {
          "base_uri": "https://localhost:8080/",
          "height": 34
        },
        "outputId": "fd01373c-7ce3-4c80-f9de-ced361d2b69a"
      },
      "source": [
        "dict1 = {1:10, 2:20}\n",
        "dict2 = {3:30, 4:40}\n",
        "dict3 = {5:50, 6:60}\n",
        "dict2.update(dict3)\n",
        "dict1.update(dict2)\n",
        "print(\"Required result:\",dict1)"
      ],
      "execution_count": 7,
      "outputs": [
        {
          "output_type": "stream",
          "text": [
            "Required result: {1: 10, 2: 20, 3: 30, 4: 40, 5: 50, 6: 60}\n"
          ],
          "name": "stdout"
        }
      ]
    }
  ]
}