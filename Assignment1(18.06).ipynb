{
  "nbformat": 4,
  "nbformat_minor": 0,
  "metadata": {
    "colab": {
      "name": "Assignment1_(18/06).ipynb",
      "provenance": [],
      "authorship_tag": "ABX9TyNqeEbSIVLqJsRC9ADtOuil",
      "include_colab_link": true
    },
    "kernelspec": {
      "name": "python3",
      "display_name": "Python 3"
    }
  },
  "cells": [
    {
      "cell_type": "markdown",
      "metadata": {
        "id": "view-in-github",
        "colab_type": "text"
      },
      "source": [
        "<a href=\"https://colab.research.google.com/github/srinijadharani/python-workshop/blob/master/Assignment1_(18_06).ipynb\" target=\"_parent\"><img src=\"https://colab.research.google.com/assets/colab-badge.svg\" alt=\"Open In Colab\"/></a>"
      ]
    },
    {
      "cell_type": "markdown",
      "metadata": {
        "id": "CO9fAIpe9e1B",
        "colab_type": "text"
      },
      "source": [
        "1. Write a python program to design simple calculator for the operators +, -, multiplication, /, %, **, //"
      ]
    },
    {
      "cell_type": "markdown",
      "metadata": {
        "id": "uG3QIxeFIY_3",
        "colab_type": "text"
      },
      "source": [
        "the variable names should not be the names of the keywords. "
      ]
    },
    {
      "cell_type": "code",
      "metadata": {
        "id": "gbJKHFJo9J_t",
        "colab_type": "code",
        "colab": {
          "base_uri": "https://localhost:8080/",
          "height": 173
        },
        "outputId": "536515e7-2dbd-4598-f74a-90d334a6d60e"
      },
      "source": [
        "num1= int(input(\"Enter a number: \"))\n",
        "num2= int(input(\"Enter another number: \"))\n",
        "add= num1+num2\n",
        "sub= num1-num2\n",
        "pro= num1*num2\n",
        "div= num1/num2\n",
        "mod= num1%num2\n",
        "power= num1**num2\n",
        "floor_div= num1//num2\n",
        "print(\"The sum is\", add)\n",
        "print(\"The difference is\", sub)\n",
        "print(\"The product is\", pro)\n",
        "print(\"The division is\", div)\n",
        "print(\"The remainder is\", mod)\n",
        "print(\"The power of \", num1, \"to \", num2,  \"is \", power)\n",
        "print(\"The floor division is\", floor_div)"
      ],
      "execution_count": 5,
      "outputs": [
        {
          "output_type": "stream",
          "text": [
            "Enter a number: 12\n",
            "Enter another number: 24\n",
            "The sum is 36\n",
            "The difference is -12\n",
            "The product is 288\n",
            "The division is 0.5\n",
            "The remainder is 12\n",
            "The power of  12 to  24 is  79496847203390844133441536\n",
            "The floor division is 0\n"
          ],
          "name": "stdout"
        }
      ]
    },
    {
      "cell_type": "markdown",
      "metadata": {
        "id": "xGD8X985IQAz",
        "colab_type": "text"
      },
      "source": [
        "2. Write a python program to calculate the simple interest"
      ]
    },
    {
      "cell_type": "code",
      "metadata": {
        "id": "YMJQr58GHz6y",
        "colab_type": "code",
        "colab": {
          "base_uri": "https://localhost:8080/",
          "height": 87
        },
        "outputId": "b09c6294-57f4-4e53-ef3d-83710fac3bdf"
      },
      "source": [
        "principal = float(input(\"Enter the principal amount: \"))\n",
        "time = float(input(\"Enter the time period: \"))\n",
        "rate = float(input(\"Enter the rate of interest: \"))\n",
        "simple_interest= (principal*time*rate)/100\n",
        "print(\"Simple Interest = \", simple_interest)"
      ],
      "execution_count": 7,
      "outputs": [
        {
          "output_type": "stream",
          "text": [
            "Enter the principal amount: 100\n",
            "Enter the time period: 6\n",
            "Enter the rate of interest: 20\n",
            "Simple Interest =  120.0\n"
          ],
          "name": "stdout"
        }
      ]
    },
    {
      "cell_type": "markdown",
      "metadata": {
        "id": "IDKSBpzqJTYk",
        "colab_type": "text"
      },
      "source": [
        "3.\tWrite a python program to calculate area of a circle"
      ]
    },
    {
      "cell_type": "code",
      "metadata": {
        "id": "k5SN2ZhfJHBe",
        "colab_type": "code",
        "colab": {
          "base_uri": "https://localhost:8080/",
          "height": 52
        },
        "outputId": "d3fde26c-15ff-4514-aebd-5d76f10c7548"
      },
      "source": [
        "radius= float(input(\"Enter the radius of the circle\"))\n",
        "PI= 3.1412\n",
        "area= PI*radius*radius\n",
        "print(\"The area of the circle= \",area)"
      ],
      "execution_count": 9,
      "outputs": [
        {
          "output_type": "stream",
          "text": [
            "Enter the radius of the circle2\n",
            "The area of the circle=  12.5648\n"
          ],
          "name": "stdout"
        }
      ]
    },
    {
      "cell_type": "markdown",
      "metadata": {
        "id": "lsPSuyYBKC8x",
        "colab_type": "text"
      },
      "source": [
        "4. Write a python program to find the area of a square"
      ]
    },
    {
      "cell_type": "code",
      "metadata": {
        "id": "nV8TPIvdJ7Ro",
        "colab_type": "code",
        "colab": {
          "base_uri": "https://localhost:8080/",
          "height": 69
        },
        "outputId": "17d62b27-1354-4bde-9470-21540c06c855"
      },
      "source": [
        "base= float(input(\"Enter the base of the triange: \"))\n",
        "height= float(input(\"Enter the height of the triange: \"))\n",
        "tri_area= 0.5*base*height\n",
        "print(\"The area of the triange= \",tri_area)"
      ],
      "execution_count": 11,
      "outputs": [
        {
          "output_type": "stream",
          "text": [
            "Enter the base of the triange: 23\n",
            "Enter the height of the triange: 12\n",
            "The area of the triange=  138.0\n"
          ],
          "name": "stdout"
        }
      ]
    },
    {
      "cell_type": "markdown",
      "metadata": {
        "id": "WsqPPjYWLCHa",
        "colab_type": "text"
      },
      "source": [
        "5. Write a python program to convert temperature from celcius to fahrenheit "
      ]
    },
    {
      "cell_type": "code",
      "metadata": {
        "id": "asIIdjB8K6nw",
        "colab_type": "code",
        "colab": {
          "base_uri": "https://localhost:8080/",
          "height": 52
        },
        "outputId": "4b48bcf5-d5be-490a-cd3e-69525ae11477"
      },
      "source": [
        "celsius= float(input(\"Enter temp in Celsius: \"))\n",
        "fahrenheit = (celsius * 9/5) + 32\n",
        "print(\"Temperature in Fahrenheit is: \", fahrenheit)"
      ],
      "execution_count": 14,
      "outputs": [
        {
          "output_type": "stream",
          "text": [
            "Enter temp in Celsius: 100\n",
            "Temperature in Fahrenheit is:  212.0\n"
          ],
          "name": "stdout"
        }
      ]
    },
    {
      "cell_type": "markdown",
      "metadata": {
        "id": "3cmG85npMHig",
        "colab_type": "text"
      },
      "source": [
        "6. Write a python program to calculate the area of a rectange"
      ]
    },
    {
      "cell_type": "code",
      "metadata": {
        "id": "t3M7UnCDL7dU",
        "colab_type": "code",
        "colab": {
          "base_uri": "https://localhost:8080/",
          "height": 69
        },
        "outputId": "0ab49451-94a0-4019-ca5b-8a15e099c0e2"
      },
      "source": [
        "length= float(input(\"Enter the length: \"))\n",
        "breadth= float(input(\"Enter the breadth: \"))\n",
        "area_rect= length*breadth\n",
        "print(\"Area of the rectange is: \",area_rect)"
      ],
      "execution_count": 15,
      "outputs": [
        {
          "output_type": "stream",
          "text": [
            "Enter the length: 20\n",
            "Enter the breadth: 40\n",
            "Area of the rectange is:  800.0\n"
          ],
          "name": "stdout"
        }
      ]
    },
    {
      "cell_type": "markdown",
      "metadata": {
        "id": "RpphWGxVM3JQ",
        "colab_type": "text"
      },
      "source": [
        "7. Write a python program to calculate the perimeter of a square"
      ]
    },
    {
      "cell_type": "code",
      "metadata": {
        "id": "TUsoc7eFMyXH",
        "colab_type": "code",
        "colab": {
          "base_uri": "https://localhost:8080/",
          "height": 52
        },
        "outputId": "99854d0a-a554-4f1b-f9dc-eff54d3ad150"
      },
      "source": [
        "side= float(input(\"Enter the side of the square: \"))\n",
        "perimeter= 4*side\n",
        "print(\"Perimeter of the square= \",perimeter)"
      ],
      "execution_count": 17,
      "outputs": [
        {
          "output_type": "stream",
          "text": [
            "Enter the side of the square: 12\n",
            "Perimeter of the square=  48.0\n"
          ],
          "name": "stdout"
        }
      ]
    },
    {
      "cell_type": "markdown",
      "metadata": {
        "id": "CPQ9EVL5Oo1n",
        "colab_type": "text"
      },
      "source": [
        "8. Write a python program to calculate the circumference of a circle"
      ]
    },
    {
      "cell_type": "code",
      "metadata": {
        "id": "DO2alhL5OiQ5",
        "colab_type": "code",
        "colab": {
          "base_uri": "https://localhost:8080/",
          "height": 52
        },
        "outputId": "1eb4528c-2cfd-4935-ee4a-62a8b803c623"
      },
      "source": [
        "rad= float(input(\"Enter the radius of the circle: \"))\n",
        "circumference= 2*PI*rad\n",
        "print(\"Circumference of the circle= \",circumference)\n",
        "#the value of PI is take from the previous line of code used for area of the circle"
      ],
      "execution_count": 18,
      "outputs": [
        {
          "output_type": "stream",
          "text": [
            "Enter the radius of the circle: 2\n",
            "Circumference of the circle=  12.5648\n"
          ],
          "name": "stdout"
        }
      ]
    },
    {
      "cell_type": "markdown",
      "metadata": {
        "id": "KaFsJCvZQOSP",
        "colab_type": "text"
      },
      "source": [
        "9. Write a python program to swap two numbers"
      ]
    },
    {
      "cell_type": "code",
      "metadata": {
        "id": "ATM14tRyQBYL",
        "colab_type": "code",
        "colab": {
          "base_uri": "https://localhost:8080/",
          "height": 87
        },
        "outputId": "2ec8c709-1467-4adf-9901-5c370926f7a0"
      },
      "source": [
        "a= int(input(\"Enter a number: \"))\n",
        "b= int(input(\"Enter another number: \"))\n",
        "print(\"Numbers before swapping are:(a,b)= \", a,b)\n",
        "a= a+b\n",
        "b= a-b\n",
        "a= a-b\n",
        "print(\"Swapped numbers are:(a,b)= \",a,b)"
      ],
      "execution_count": 20,
      "outputs": [
        {
          "output_type": "stream",
          "text": [
            "Enter a number: 3\n",
            "Enter another number: 5\n",
            "Numbers before swapping are:(a,b)=  3 5\n",
            "Swapped numbers are:(a,b)=  5 3\n"
          ],
          "name": "stdout"
        }
      ]
    },
    {
      "cell_type": "code",
      "metadata": {
        "id": "M1etlxqUQw7K",
        "colab_type": "code",
        "colab": {}
      },
      "source": [
        ""
      ],
      "execution_count": null,
      "outputs": []
    }
  ]
}
