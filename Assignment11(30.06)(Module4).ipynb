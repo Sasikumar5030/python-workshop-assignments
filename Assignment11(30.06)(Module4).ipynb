{
 "cells": [
  {
   "cell_type": "markdown",
   "metadata": {},
   "source": [
    "**Program to read an entire file.**"
   ]
  },
  {
   "cell_type": "code",
   "execution_count": 9,
   "metadata": {},
   "outputs": [
    {
     "name": "stdout",
     "output_type": "stream",
     "text": [
      "Content present in the file assignment.txt is\n",
      " Hello! I'm Nimbus.\n",
      "I can say Hello in 4 languages!\n",
      "Hola! (Spanish)\n",
      "Ciao! (Italian)\n",
      "Hallo! (German)\n",
      "Bonjour! (French)\n"
     ]
    }
   ],
   "source": [
    "f=open(\"assignment.txt\",\"r\")\n",
    "content=f.read()\n",
    "print(\"Content present in the file assignment.txt is\\n\",content)"
   ]
  },
  {
   "cell_type": "markdown",
   "metadata": {},
   "source": [
    "**Program to read the first n lines of a file.**"
   ]
  },
  {
   "cell_type": "code",
   "execution_count": 10,
   "metadata": {},
   "outputs": [
    {
     "name": "stdout",
     "output_type": "stream",
     "text": [
      "Enter the number of lines you want to read: 4\n",
      "The content present in the first 4 lines present in the file is\n",
      ":\n",
      "Hello! I'm Nimbus.\n",
      "\n",
      "I can say Hello in 4 languages!\n",
      "\n",
      "Hola! (Spanish)\n",
      "\n",
      "Ciao! (Italian)\n",
      "\n"
     ]
    }
   ],
   "source": [
    "f=open(\"assignment.txt\",\"r\")\n",
    "n=int(input(\"Enter the number of lines you want to read: \"))\n",
    "print(\"The content present in the first\",n,\"lines present in the file is\\n:\")\n",
    "for i in range(n):\n",
    "    line=f.readline()\n",
    "    print(line)"
   ]
  },
  {
   "cell_type": "markdown",
   "metadata": {},
   "source": [
    "**Program to append text to a file and display it.**"
   ]
  },
  {
   "cell_type": "code",
   "execution_count": 11,
   "metadata": {},
   "outputs": [],
   "source": [
    "f=open(\"assignment.txt\",\"a\")\n",
    "content=\"\"\"\\nI can even say goodbye in four languages.\n",
    "Adios! (Spanish)\n",
    "Addio! (Italian)\n",
    "Tschus! (German)\n",
    "Au Revoir! (French)\"\"\"\n",
    "f.write(content)\n",
    "f.close()"
   ]
  },
  {
   "cell_type": "markdown",
   "metadata": {},
   "source": [
    "**Program to read last n lines of a file.**"
   ]
  },
  {
   "cell_type": "code",
   "execution_count": 12,
   "metadata": {},
   "outputs": [
    {
     "name": "stdout",
     "output_type": "stream",
     "text": [
      "Enter the value of n to print the last lines: 2\n",
      "Tschus! (German)\n",
      "Au Revoir! (French)"
     ]
    }
   ],
   "source": [
    "f=open(\"assignment.txt\",\"r\")\n",
    "n=int(input(\"Enter the value of n to print the last lines: \"))\n",
    "last=f.readlines() [-n:]\n",
    "for line in last:\n",
    "    print(line, end ='')"
   ]
  },
  {
   "cell_type": "markdown",
   "metadata": {},
   "source": [
    "**Program to read a file line by line and store it in a variable.**"
   ]
  },
  {
   "cell_type": "code",
   "execution_count": 15,
   "metadata": {},
   "outputs": [
    {
     "name": "stdout",
     "output_type": "stream",
     "text": [
      "[\"Hello! I'm Nimbus.\\n\", 'I can say Hello in 4 languages!\\n', 'Hola! (Spanish)\\n', 'Ciao! (Italian)\\n', 'Hallo! (German)\\n', 'Bonjour! (French)\\n', 'I can even say goodbye in four languages.\\n', 'Adios! (Spanish)\\n', 'Addio! (Italian)\\n', 'Tschus! (German)\\n', 'Au Revoir! (French)']\n"
     ]
    }
   ],
   "source": [
    "def read_file(name):\n",
    "        with open (name, \"r\") as myfile:\n",
    "                content=myfile.readlines()\n",
    "                print(content)\n",
    "read_file('assignment.txt')"
   ]
  },
  {
   "cell_type": "markdown",
   "metadata": {},
   "source": [
    "**Program to read a file line by line and store it in a list.**"
   ]
  },
  {
   "cell_type": "code",
   "execution_count": 21,
   "metadata": {},
   "outputs": [
    {
     "name": "stdout",
     "output_type": "stream",
     "text": [
      "['I can say Hello in 4 languages!\\n', 'Hola! (Spanish)\\n', 'Ciao! (Italian)\\n', 'Hallo! (German)\\n', 'Bonjour! (French)\\n', 'I can even say goodbye in four languages.\\n', 'Adios! (Spanish)\\n', 'Addio! (Italian)\\n', 'Tschus! (German)\\n', 'Au Revoir! (French)']\n"
     ]
    }
   ],
   "source": [
    "def read_file(name):\n",
    "        content = []\n",
    "        with open(name) as f:    \n",
    "                for lines in f:\n",
    "                        content=list(f.readlines())\n",
    "                print(content)\n",
    "\n",
    "read_file('assignment.txt')"
   ]
  },
  {
   "cell_type": "markdown",
   "metadata": {},
   "source": [
    "**Program to read a file line by line and store it in an array.**"
   ]
  },
  {
   "cell_type": "code",
   "execution_count": 23,
   "metadata": {},
   "outputs": [
    {
     "name": "stdout",
     "output_type": "stream",
     "text": [
      "[\"Hello! I'm Nimbus.\\n\", 'I can say Hello in 4 languages!\\n', 'Hola! (Spanish)\\n', 'Ciao! (Italian)\\n', 'Hallo! (German)\\n', 'Bonjour! (French)\\n', 'I can even say goodbye in four languages.\\n', 'Adios! (Spanish)\\n', 'Addio! (Italian)\\n', 'Tschus! (German)\\n', 'Au Revoir! (French)']\n"
     ]
    }
   ],
   "source": [
    "def read(name):\n",
    "        content = []\n",
    "        with open(name) as f:  \n",
    "                for line in f:\n",
    "                        content.append(line)\n",
    "                print(content)\n",
    "\n",
    "read('assignment.txt')"
   ]
  },
  {
   "cell_type": "markdown",
   "metadata": {},
   "source": [
    "**Program to count the number of lines in a file.**"
   ]
  },
  {
   "cell_type": "code",
   "execution_count": 28,
   "metadata": {},
   "outputs": [
    {
     "name": "stdout",
     "output_type": "stream",
     "text": [
      "Number of lines in the given list: 11\n"
     ]
    }
   ],
   "source": [
    "f=open(\"assignment.txt\",\"r\")\n",
    "count=0\n",
    "content=f.read()\n",
    "file_list=content.split(\"\\n\")\n",
    "\n",
    "for line in file_list:\n",
    "    if i:\n",
    "        count+=1\n",
    "print(\"Number of lines in the given list:\",count)"
   ]
  },
  {
   "cell_type": "markdown",
   "metadata": {},
   "source": [
    "**Program to get the full size of a plain file.**"
   ]
  },
  {
   "cell_type": "code",
   "execution_count": 30,
   "metadata": {},
   "outputs": [
    {
     "name": "stdout",
     "output_type": "stream",
     "text": [
      "File size in bytes of a plain file: 234\n"
     ]
    }
   ],
   "source": [
    "def size(f):\n",
    "        import os\n",
    "        statinfo = os.stat(f)\n",
    "        return statinfo.st_size\n",
    "size_file=size(\"assignment.txt\")\n",
    "print(\"File size in bytes of a plain file:\",size_file)"
   ]
  },
  {
   "cell_type": "markdown",
   "metadata": {},
   "source": [
    "**Program to copy the content of one file to another.**"
   ]
  },
  {
   "cell_type": "code",
   "execution_count": 31,
   "metadata": {},
   "outputs": [],
   "source": [
    "with open(\"assignment.txt\") as f:\n",
    "    with open(\"out.txt\", \"w\") as f1:\n",
    "        for line in f:\n",
    "            f1.write(line)"
   ]
  }
 ],
 "metadata": {
  "kernelspec": {
   "display_name": "Python 3",
   "language": "python",
   "name": "python3"
  }
 },
 "nbformat": 4,
 "nbformat_minor": 4
}
