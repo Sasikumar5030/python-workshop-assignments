{
  "nbformat": 4,
  "nbformat_minor": 0,
  "metadata": {
    "colab": {
      "name": "Assignment1_module2.ipynb",
      "provenance": [],
      "collapsed_sections": [],
      "authorship_tag": "ABX9TyMm+37SNb77TovnncnBJlCP",
      "include_colab_link": true
    },
    "kernelspec": {
      "name": "python3",
      "display_name": "Python 3"
    }
  },
  "cells": [
    {
      "cell_type": "markdown",
      "metadata": {
        "id": "view-in-github",
        "colab_type": "text"
      },
      "source": [
        "<a href=\"https://colab.research.google.com/github/srinijadharani/python-workshop-assignments/blob/master/Assignment1_module2.ipynb\" target=\"_parent\"><img src=\"https://colab.research.google.com/assets/colab-badge.svg\" alt=\"Open In Colab\"/></a>"
      ]
    },
    {
      "cell_type": "markdown",
      "metadata": {
        "id": "nELyFAyLwwwa",
        "colab_type": "text"
      },
      "source": [
        "**1.\tTake two inputs from user and check whether they are equal or not.**"
      ]
    },
    {
      "cell_type": "code",
      "metadata": {
        "id": "vjMDhDSUwsKR",
        "colab_type": "code",
        "colab": {
          "base_uri": "https://localhost:8080/",
          "height": 69
        },
        "outputId": "ddee4643-dc94-48a1-c37b-9815766d8425"
      },
      "source": [
        "input1 = input(\"Enter the first input: \")\n",
        "input2 = input(\"Enter the second input: \")\n",
        "if input1==input2:\n",
        "  print(\"The given inputs are equal.\")\n",
        "else:\n",
        "  print(\"The given inputs are not equal.\")  "
      ],
      "execution_count": 1,
      "outputs": [
        {
          "output_type": "stream",
          "text": [
            "Enter the first input: Hello\n",
            "Enter the second input: Hello\n",
            "The given inputs are equal.\n"
          ],
          "name": "stdout"
        }
      ]
    },
    {
      "cell_type": "code",
      "metadata": {
        "id": "2XZzRjrrxYeg",
        "colab_type": "code",
        "colab": {
          "base_uri": "https://localhost:8080/",
          "height": 69
        },
        "outputId": "3c5e26b6-0bca-4121-caf3-ceef0a5ef2c0"
      },
      "source": [
        "input1 = input(\"Enter the first input: \")\n",
        "input2 = input(\"Enter the second input: \")\n",
        "if input1==input2:\n",
        "  print(\"The given inputs are equal.\")\n",
        "else:\n",
        "  print(\"The given inputs are not equal.\")  "
      ],
      "execution_count": 2,
      "outputs": [
        {
          "output_type": "stream",
          "text": [
            "Enter the first input: 23\n",
            "Enter the second input: 21\n",
            "The given inputs are not equal.\n"
          ],
          "name": "stdout"
        }
      ]
    },
    {
      "cell_type": "markdown",
      "metadata": {
        "id": "6oGgcxInxg4i",
        "colab_type": "text"
      },
      "source": [
        "**2.\tTake 3 inputs from user and check :\n",
        "           all are equal,\n",
        "           any of two are equal\n",
        "           ( use and or )**\n"
      ]
    },
    {
      "cell_type": "code",
      "metadata": {
        "id": "24QANUx9zdVR",
        "colab_type": "code",
        "colab": {
          "base_uri": "https://localhost:8080/",
          "height": 87
        },
        "outputId": "8429cde4-6444-4309-c874-efbb4e5a3a80"
      },
      "source": [
        "input1 = input(\"Enter the first input: \")\n",
        "input2 = input(\"Enter the second input: \")\n",
        "input3 = input(\"Enter the third input: \")\n",
        "if input1==input2 and input2==input3:\n",
        "  print(\"The given inputs are equal.\")\n",
        "else:\n",
        "  if input1==input2 or input1==input3:\n",
        "    print(\"Two inputs are equal.\")\n",
        "  elif input2==input1 or input2==input3:\n",
        "    print(\"Two inputs are equal.\")\n",
        "  elif input3==input1 or input3==input2:\n",
        "    print(\"Two inputs are equal.\")\n",
        "  else:\n",
        "    print(\"None of the inputs are equal.\")      "
      ],
      "execution_count": 32,
      "outputs": [
        {
          "output_type": "stream",
          "text": [
            "Enter the first input: 23\n",
            "Enter the second input: 24\n",
            "Enter the third input: 21\n",
            "None of the inputs are equal.\n"
          ],
          "name": "stdout"
        }
      ]
    },
    {
      "cell_type": "code",
      "metadata": {
        "id": "UgQExtzo61PR",
        "colab_type": "code",
        "colab": {
          "base_uri": "https://localhost:8080/",
          "height": 87
        },
        "outputId": "c0fd0103-8375-400f-a5e4-bf76a6ffd45b"
      },
      "source": [
        "input1 = input(\"Enter the first input: \")\n",
        "input2 = input(\"Enter the second input: \")\n",
        "input3 = input(\"Enter the third input: \")\n",
        "if input1==input2 and input2==input3:\n",
        "  print(\"The given inputs are equal.\")\n",
        "else:\n",
        "  if input1==input2 or input1==input3:\n",
        "    print(\"Two inputs are equal.\")\n",
        "  elif input2==input1 or input2==input3:\n",
        "    print(\"Two inputs are equal.\")\n",
        "  elif input3==input1 or input3==input2:\n",
        "    print(\"Two inputs are equal.\")\n",
        "  else:\n",
        "    print(\"None of the inputs are equal.\")  "
      ],
      "execution_count": 30,
      "outputs": [
        {
          "output_type": "stream",
          "text": [
            "Enter the first input: 23\n",
            "Enter the second input: 23\n",
            "Enter the third input: 45\n",
            "Two inputs are equal.\n"
          ],
          "name": "stdout"
        }
      ]
    },
    {
      "cell_type": "code",
      "metadata": {
        "id": "tHKj1aYR65BT",
        "colab_type": "code",
        "colab": {
          "base_uri": "https://localhost:8080/",
          "height": 87
        },
        "outputId": "145295be-081e-4d4c-e6ee-275cb31d6ba3"
      },
      "source": [
        "input1 = input(\"Enter the first input: \")\n",
        "input2 = input(\"Enter the second input: \")\n",
        "input3 = input(\"Enter the third input: \")\n",
        "if input1==input2 and input2==input3:\n",
        "  print(\"The given inputs are equal.\")\n",
        "else:\n",
        "  if input1==input2 or input1==input3:\n",
        "    print(\"Two inputs are equal.\")\n",
        "  elif input2==input1 or input2==input3:\n",
        "    print(\"Two inputs are equal.\")\n",
        "  elif input3==input1 or input3==input2:\n",
        "    print(\"Two inputs are equal.\")\n",
        "  else:\n",
        "    print(\"None of the inputs are equal.\")  "
      ],
      "execution_count": 31,
      "outputs": [
        {
          "output_type": "stream",
          "text": [
            "Enter the first input: 23\n",
            "Enter the second input: 23\n",
            "Enter the third input: 23\n",
            "The given inputs are equal.\n"
          ],
          "name": "stdout"
        }
      ]
    },
    {
      "cell_type": "markdown",
      "metadata": {
        "id": "FTaMbYu91gFm",
        "colab_type": "text"
      },
      "source": [
        "**3.\tTake two number and check whether the sum is greater than 5, less than 5 or equal to 5.**"
      ]
    },
    {
      "cell_type": "code",
      "metadata": {
        "id": "lZrVTCdDzhhB",
        "colab_type": "code",
        "colab": {
          "base_uri": "https://localhost:8080/",
          "height": 69
        },
        "outputId": "1fcc0d39-87dc-4d2a-a540-0f0457785142"
      },
      "source": [
        "num1 = int(input(\"Enter the first number: \"))\n",
        "num2 = int(input(\"Enter the second number: \"))\n",
        "if num1+num2>5:\n",
        "  print(\"The sum is greater than 5.\")\n",
        "elif num1+num2<5:\n",
        "  print(\"The sum is less than 5.\")\n",
        "else:\n",
        "  print(\"The sum is equal to 5.\")    "
      ],
      "execution_count": 16,
      "outputs": [
        {
          "output_type": "stream",
          "text": [
            "Enter the first number: 2\n",
            "Enter the second number: 5\n",
            "The sum is greater than 5.\n"
          ],
          "name": "stdout"
        }
      ]
    },
    {
      "cell_type": "code",
      "metadata": {
        "id": "Z_gpeQ9h17Dh",
        "colab_type": "code",
        "colab": {
          "base_uri": "https://localhost:8080/",
          "height": 69
        },
        "outputId": "ef80bc08-a861-4ccd-b66c-c91b0931ed7b"
      },
      "source": [
        "num1 = int(input(\"Enter the first number: \"))\n",
        "num2 = int(input(\"Enter the second number: \"))\n",
        "if num1+num2>5:\n",
        "  print(\"The sum is greater than 5.\")\n",
        "elif num1+num2<5:\n",
        "  print(\"The sum is less than 5.\")\n",
        "else:\n",
        "  print(\"The sum is equal to 5.\")    "
      ],
      "execution_count": 17,
      "outputs": [
        {
          "output_type": "stream",
          "text": [
            "Enter the first number: 4\n",
            "Enter the second number: 2\n",
            "The sum is greater than 5.\n"
          ],
          "name": "stdout"
        }
      ]
    },
    {
      "cell_type": "code",
      "metadata": {
        "id": "C5c2oEzj1_A_",
        "colab_type": "code",
        "colab": {
          "base_uri": "https://localhost:8080/",
          "height": 69
        },
        "outputId": "289d9363-23d5-4d84-af96-e82b222eac11"
      },
      "source": [
        "num1 = int(input(\"Enter the first number: \"))\n",
        "num2 = int(input(\"Enter the second number: \"))\n",
        "if num1+num2>5:\n",
        "  print(\"The sum is greater than 5.\")\n",
        "elif num1+num2<5:\n",
        "  print(\"The sum is less than 5.\")\n",
        "else:\n",
        "  print(\"The sum is equal to 5.\")    "
      ],
      "execution_count": 18,
      "outputs": [
        {
          "output_type": "stream",
          "text": [
            "Enter the first number: 1\n",
            "Enter the second number: 2\n",
            "The sum is less than 5.\n"
          ],
          "name": "stdout"
        }
      ]
    },
    {
      "cell_type": "markdown",
      "metadata": {
        "id": "CXBAGYFr2KzG",
        "colab_type": "text"
      },
      "source": [
        "**4.\tSuppose passing marks of a subject is 35. Take input of marks from user and check whether it is greater than passing marks or not.**"
      ]
    },
    {
      "cell_type": "code",
      "metadata": {
        "id": "gEL4XD0G2DjC",
        "colab_type": "code",
        "colab": {
          "base_uri": "https://localhost:8080/",
          "height": 52
        },
        "outputId": "558eb889-88e5-4d77-b37d-1005e176dc7f"
      },
      "source": [
        "marks = float(input(\"Enter the number of marks: \"))\n",
        "pass_mark = 35\n",
        "if marks>pass_mark:\n",
        "  print(\"The marks you scored are greater than the pass mark. You have passed.\")\n",
        "else:\n",
        "  print(\"The marks you have scored are less than the pass mark. You have not passed.\")  "
      ],
      "execution_count": 19,
      "outputs": [
        {
          "output_type": "stream",
          "text": [
            "Enter the number of marks: 98\n",
            "The marks you scored are greater than the pass mark. You have passed.\n"
          ],
          "name": "stdout"
        }
      ]
    },
    {
      "cell_type": "code",
      "metadata": {
        "id": "YCjRZQcE2pe8",
        "colab_type": "code",
        "colab": {
          "base_uri": "https://localhost:8080/",
          "height": 52
        },
        "outputId": "5897ae53-528a-4c7a-c375-27d223784ce3"
      },
      "source": [
        "marks = float(input(\"Enter the number of marks: \"))\n",
        "pass_mark = 35\n",
        "if marks>pass_mark:\n",
        "  print(\"The marks you scored are greater than the pass mark. You have passed.\")\n",
        "else:\n",
        "  print(\"The marks you have scored are less than the pass mark. You have not passed.\")  "
      ],
      "execution_count": 20,
      "outputs": [
        {
          "output_type": "stream",
          "text": [
            "Enter the number of marks: 23\n",
            "The marks you have scored are less than the pass mark. You have not passed.\n"
          ],
          "name": "stdout"
        }
      ]
    },
    {
      "cell_type": "markdown",
      "metadata": {
        "id": "cpcoSSej2wHs",
        "colab_type": "text"
      },
      "source": [
        "**5.\tWrite a Python function to find the Max of three numbers.**"
      ]
    },
    {
      "cell_type": "code",
      "metadata": {
        "id": "Cd3TzC_d2uBc",
        "colab_type": "code",
        "colab": {
          "base_uri": "https://localhost:8080/",
          "height": 87
        },
        "outputId": "8d56a0fd-a038-42ed-8e2e-c2b1c09014d4"
      },
      "source": [
        "num1 = int(input(\"Enter the first number: \"))\n",
        "num2 = int(input(\"Enter the second number: \"))\n",
        "num3 = int(input(\"Enter the third number: \"))\n",
        "if num1>num2:\n",
        "  if num1>num3:\n",
        "    print(\"The maximum of three numbers is:\",num1)\n",
        "  else:\n",
        "    print(\"The maximum of three numbers is:\",num3)\n",
        "else:\n",
        "  if num2>num3:\n",
        "    print(\"The maximum of three numbers is:\",num2)  \n",
        "  else:\n",
        "    print(\"The maximum of three numbers is:\", num3)      "
      ],
      "execution_count": 21,
      "outputs": [
        {
          "output_type": "stream",
          "text": [
            "Enter the first number: 23\n",
            "Enter the second number: 24\n",
            "Enter the third number: 515\n",
            "The maximum of three numbers is: 515\n"
          ],
          "name": "stdout"
        }
      ]
    }
  ]
}