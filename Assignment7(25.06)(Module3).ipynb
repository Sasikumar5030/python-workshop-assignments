{
 "cells": [
  {
   "cell_type": "markdown",
   "metadata": {},
   "source": [
    "**1. Program to find the square root.**"
   ]
  },
  {
   "cell_type": "code",
   "execution_count": 1,
   "metadata": {},
   "outputs": [],
   "source": [
    "import math\n",
    "def sq_root(num):\n",
    "    sq=math.sqrt(num)\n",
    "    print(\"The square root of\",num,\"is:\",sq)\n",
    "sq_root(81)"
   ]
  },
  {
   "cell_type": "markdown",
   "metadata": {},
   "source": [
    "**2. Program to check if a number is positive, negative or zero.**"
   ]
  },
  {
   "cell_type": "code",
   "execution_count": 2,
   "metadata": {},
   "outputs": [
    {
     "name": "stdout",
     "output_type": "stream",
     "text": [
      "-7 is negative.\n"
     ]
    }
   ],
   "source": [
    "def check_num(num):\n",
    "    if num>0:\n",
    "        print(num,\"is positive.\")\n",
    "    elif num<0:\n",
    "        print(num,\"is negative.\")\n",
    "    else:\n",
    "        print(num,\"is zero.\")\n",
    "check_num(-7)"
   ]
  },
  {
   "cell_type": "markdown",
   "metadata": {},
   "source": [
    "**3. Program to checck if the given year is a leap year or not.**"
   ]
  },
  {
   "cell_type": "code",
   "execution_count": 3,
   "metadata": {},
   "outputs": [
    {
     "name": "stdout",
     "output_type": "stream",
     "text": [
      "2000 is a leap year.\n"
     ]
    }
   ],
   "source": [
    "def leap_year(year):\n",
    "    if year%4==0:\n",
    "        if year%100==0:\n",
    "            if year%400==0:\n",
    "                print(year,\"is a leap year.\")\n",
    "            else:\n",
    "                print(year,\"is not a leap year.\")\n",
    "        else:\n",
    "            print(year,\"is a leap year.\")\n",
    "    else:\n",
    "        print(year,\"is not a leap year.\")\n",
    "leap_year(2000)"
   ]
  },
  {
   "cell_type": "markdown",
   "metadata": {},
   "source": [
    "**4. Program to print the Fibonacci series.**"
   ]
  },
  {
   "cell_type": "code",
   "execution_count": 4,
   "metadata": {},
   "outputs": [
    {
     "name": "stdout",
     "output_type": "stream",
     "text": [
      "Fibonacci Series upto 7 terms is given by: \n",
      "0 1 1 2 3 5 8 "
     ]
    }
   ],
   "source": [
    "def fibonacci(num):\n",
    "    first_term, second_term, count=0, 1, 0\n",
    "    print(\"Fibonacci Series upto\",num,\"terms is given by: \")\n",
    "    while count<num:\n",
    "        print(first_term, end=\" \")\n",
    "        next_term=first_term+second_term\n",
    "        first_term=second_term\n",
    "        second_term=next_term\n",
    "        count+=1\n",
    "fibonacci(7)"
   ]
  },
  {
   "cell_type": "markdown",
   "metadata": {},
   "source": [
    "**5. Check if a number is Armstrong number or not.**"
   ]
  },
  {
   "cell_type": "code",
   "execution_count": 5,
   "metadata": {},
   "outputs": [
    {
     "name": "stdout",
     "output_type": "stream",
     "text": [
      "54748 is an Armstrong Number.\n"
     ]
    }
   ],
   "source": [
    "def armstrong(num):\n",
    "    sum=0\n",
    "    temp=num\n",
    "    while temp!=0:\n",
    "        last_digit= temp%10\n",
    "        sum=sum+pow(last_digit,len(str(num)))\n",
    "        temp=temp//10\n",
    "    if num==sum:\n",
    "        print(num,\"is an Armstrong Number.\")\n",
    "    else:\n",
    "        print(num,\"is not an Armstrong Number.\")\n",
    "armstrong(54748)"
   ]
  },
  {
   "cell_type": "markdown",
   "metadata": {},
   "source": [
    "**6. Print all Armstrong Numbers in an interval.**"
   ]
  },
  {
   "cell_type": "code",
   "execution_count": 16,
   "metadata": {},
   "outputs": [
    {
     "name": "stdout",
     "output_type": "stream",
     "text": [
      "Enter the starting index: 0\n",
      "Enter the ending index: 999\n",
      "0\n",
      "1\n",
      "153\n",
      "370\n",
      "371\n",
      "407\n"
     ]
    }
   ],
   "source": [
    "start=int(input(\"Enter the starting index: \"))\n",
    "end=int(input(\"Enter the ending index: \"))\n",
    "if end>=1000:\n",
    "    print(\"Invalid ending index.\")\n",
    "else:\n",
    "    for num in range(start,end+1):\n",
    "        sum=0\n",
    "        temp=num\n",
    "        while temp>0:\n",
    "            rem=temp%10\n",
    "            sum+=rem**3\n",
    "            temp=temp//10\n",
    "        if num==sum:\n",
    "            print(num)\n"
   ]
  },
  {
   "cell_type": "markdown",
   "metadata": {},
   "source": [
    "**1. Program to calculate the length of a string.**"
   ]
  },
  {
   "cell_type": "code",
   "execution_count": 7,
   "metadata": {},
   "outputs": [
    {
     "name": "stdout",
     "output_type": "stream",
     "text": [
      "Enter a string: malayalam\n",
      "The length of malayalam is 9\n"
     ]
    }
   ],
   "source": [
    "string=input(\"Enter a string: \")\n",
    "length=len(string)\n",
    "print(\"The length of\",string,\"is\",length)"
   ]
  },
  {
   "cell_type": "markdown",
   "metadata": {},
   "source": [
    "**2. Program to find the character frequency in a string.**"
   ]
  },
  {
   "cell_type": "code",
   "execution_count": 8,
   "metadata": {},
   "outputs": [
    {
     "name": "stdout",
     "output_type": "stream",
     "text": [
      "Enter a string: malayalam\n",
      "Character frequency malayalam is: {'m': 2, 'a': 4, 'l': 2, 'y': 1}\n"
     ]
    }
   ],
   "source": [
    "string=input(\"Enter a string: \")\n",
    "frequency={}\n",
    "for i in string:\n",
    "    if i in frequency:\n",
    "        frequency[i]+=1\n",
    "    else:\n",
    "        frequency[i]=1\n",
    "print(\"Character frequency\",string,\"is:\",frequency)"
   ]
  },
  {
   "cell_type": "markdown",
   "metadata": {},
   "source": [
    "**3. Program to get a single string from two given strings, separated by a space and swap the first character of each string.**"
   ]
  },
  {
   "cell_type": "code",
   "execution_count": 9,
   "metadata": {},
   "outputs": [
    {
     "name": "stdout",
     "output_type": "stream",
     "text": [
      "Enter the first string: xyz\n",
      "Enter the secnd string: abc\n",
      "ayz\n",
      "xbc\n"
     ]
    }
   ],
   "source": [
    "str1= input(\"Enter the first string: \")\n",
    "str2= input(\"Enter the secnd string: \")\n",
    "str1_swap= str2[:1]+str1[1:]\n",
    "str2_swap= str1[:1]+str2[1:]\n",
    "#n=str1.pop(0)\n",
    "#m=str2.pop(0)\n",
    "#p=list(str1_swap)\n",
    "#q=list(str2_swap)\n",
    "#str1=m+p\n",
    "#str2=n+q\n",
    "print(str1_swap)\n",
    "print(str2_swap)"
   ]
  },
  {
   "cell_type": "markdown",
   "metadata": {},
   "source": [
    "**4. Take input from the user and displays that input back in upper and lower cases.**"
   ]
  },
  {
   "cell_type": "code",
   "execution_count": 10,
   "metadata": {},
   "outputs": [
    {
     "name": "stdout",
     "output_type": "stream",
     "text": [
      "Enter a string: malayalam\n",
      "The string malayalam in upper case is MALAYALAM and in lower case is malayalam\n"
     ]
    }
   ],
   "source": [
    "string= input(\"Enter a string: \")\n",
    "upper_case=string.upper()\n",
    "lower_case=string.lower()\n",
    "print(\"The string\",string,\"in upper case is\",upper_case,\"and in lower case is\",lower_case)"
   ]
  },
  {
   "cell_type": "markdown",
   "metadata": {},
   "source": [
    "**5. Program to remove a newline.**"
   ]
  },
  {
   "cell_type": "code",
   "execution_count": 11,
   "metadata": {},
   "outputs": [
    {
     "data": {
      "text/plain": [
       "'Python'"
      ]
     },
     "execution_count": 11,
     "metadata": {},
     "output_type": "execute_result"
    }
   ],
   "source": [
    "string= \"Python\\n\"\n",
    "string.rstrip('\\n')"
   ]
  },
  {
   "cell_type": "markdown",
   "metadata": {},
   "source": [
    "**6. Program to count occurrences of a substring in a string.**"
   ]
  },
  {
   "cell_type": "code",
   "execution_count": 12,
   "metadata": {},
   "outputs": [
    {
     "name": "stdout",
     "output_type": "stream",
     "text": [
      "Enter a string: malayalam\n",
      "Enter a substring present in the string: al\n"
     ]
    },
    {
     "data": {
      "text/plain": [
       "2"
      ]
     },
     "execution_count": 12,
     "metadata": {},
     "output_type": "execute_result"
    }
   ],
   "source": [
    "string= input(\"Enter a string: \")\n",
    "substr= input(\"Enter a substring present in the string: \")\n",
    "string.count(substr)"
   ]
  },
  {
   "cell_type": "code",
   "execution_count": 21,
   "metadata": {},
   "outputs": [
    {
     "name": "stdout",
     "output_type": "stream",
     "text": [
      "Enter a string: malayalam\n",
      "Enter a substring present in the string: al\n",
      "Number of times the substring ' al ' has repeated in malayalam is: 2\n"
     ]
    }
   ],
   "source": [
    "string= input(\"Enter a string: \")\n",
    "substr= input(\"Enter a substring present in the string: \")\n",
    "freq=len(string.split(substr))\n",
    "print(\"Number of times the substring '\",substr,\"' has repeated in\",string,\"is:\",freq-1)"
   ]
  },
  {
   "cell_type": "markdown",
   "metadata": {},
   "source": [
    "**7. Program to convert a string in a list.**"
   ]
  },
  {
   "cell_type": "code",
   "execution_count": 14,
   "metadata": {},
   "outputs": [
    {
     "name": "stdout",
     "output_type": "stream",
     "text": [
      "Enter a string: Python\n",
      "Converted list is ['P', 'y', 't', 'h', 'o', 'n']\n"
     ]
    }
   ],
   "source": [
    "string=input(\"Enter a string: \")\n",
    "mylist=list(string)\n",
    "print(\"Converted list is\",mylist)"
   ]
  },
  {
   "cell_type": "markdown",
   "metadata": {},
   "source": [
    "**8. Program to delete a character.**"
   ]
  },
  {
   "cell_type": "code",
   "execution_count": 15,
   "metadata": {},
   "outputs": [
    {
     "name": "stdout",
     "output_type": "stream",
     "text": [
      "Enter a string: Python\n",
      "Enter the character to delete: h\n",
      "The resultant string is Pyton\n",
      "The deleted char is h .\n"
     ]
    }
   ],
   "source": [
    "string=input(\"Enter a string: \")\n",
    "char=input(\"Enter the character to delete: \")\n",
    "print(\"The resultant string is\",string.replace(char,\"\"))\n",
    "print(\"The deleted char is\",char,\".\")"
   ]
  },
  {
   "cell_type": "markdown",
   "metadata": {},
   "source": [
    "**9. Program to print every character of a string entered by user in a new line using loop.**"
   ]
  },
  {
   "cell_type": "code",
   "execution_count": 19,
   "metadata": {},
   "outputs": [
    {
     "name": "stdout",
     "output_type": "stream",
     "text": [
      "Enter a string: Python\n",
      "Characters in the string Python are:\n",
      "P\n",
      "y\n",
      "t\n",
      "h\n",
      "o\n",
      "n\n"
     ]
    }
   ],
   "source": [
    "string=input(\"Enter a string: \")\n",
    "print(\"Characters in the string\",string,\"are:\")\n",
    "for i in string:\n",
    "    print(i)"
   ]
  },
  {
   "cell_type": "markdown",
   "metadata": {},
   "source": [
    "**10. Program to find the length of the string \"refrigerator\" without using len function.**"
   ]
  },
  {
   "cell_type": "code",
   "execution_count": 18,
   "metadata": {},
   "outputs": [
    {
     "name": "stdout",
     "output_type": "stream",
     "text": [
      "The length of the string refrigerator is: 12\n"
     ]
    }
   ],
   "source": [
    "string= \"refrigerator\"\n",
    "length=0\n",
    "for i in string:\n",
    "    length+=1\n",
    "print(\"The length of the string\",string,\"is:\",length)"
   ]
  }
 ],
 "metadata": {
  "kernelspec": {
   "display_name": "Python 3",
   "language": "python",
   "name": "python3"
  },
  "language_info": {
   "codemirror_mode": {
    "name": "ipython",
    "version": 3
   },
   "file_extension": ".py",
   "mimetype": "text/x-python",
   "name": "python",
   "nbconvert_exporter": "python",
   "pygments_lexer": "ipython3",
   "version": "3.7.6"
  }
 },
 "nbformat": 4,
 "nbformat_minor": 4
}
